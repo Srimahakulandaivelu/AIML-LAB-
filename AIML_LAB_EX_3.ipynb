{
  "nbformat": 4,
  "nbformat_minor": 0,
  "metadata": {
    "colab": {
      "provenance": [],
      "authorship_tag": "ABX9TyMs+NjaOj8ZJWIbCbY8uGKz",
      "include_colab_link": true
    },
    "kernelspec": {
      "name": "python3",
      "display_name": "Python 3"
    },
    "language_info": {
      "name": "python"
    }
  },
  "cells": [
    {
      "cell_type": "markdown",
      "metadata": {
        "id": "view-in-github",
        "colab_type": "text"
      },
      "source": [
        "<a href=\"https://colab.research.google.com/github/Srimahakulandaivelu/AIML-LAB-/blob/main/AIML_LAB_EX_3.ipynb\" target=\"_parent\"><img src=\"https://colab.research.google.com/assets/colab-badge.svg\" alt=\"Open In Colab\"/></a>"
      ]
    },
    {
      "cell_type": "markdown",
      "source": [
        "**TRAVELLING SALESMAN PROBLEM USING HILL CLIMBING ALGORITHM**"
      ],
      "metadata": {
        "id": "syIk711Msqgj"
      }
    },
    {
      "cell_type": "code",
      "execution_count": 2,
      "metadata": {
        "id": "9woWtXMXskGl"
      },
      "outputs": [],
      "source": [
        "import random"
      ]
    },
    {
      "cell_type": "code",
      "source": [
        "def randomsolutions(tsp):\n",
        "  cities = list(range(len(tsp)))\n",
        "  solution = []\n",
        "  for i in range(len(tsp)):\n",
        "    randomcity = cities[random.randint(0,len(cities)-1)]\n",
        "    solution.append(randomcity)\n",
        "    cities.remove(randomcity)\n",
        "  return solution"
      ],
      "metadata": {
        "id": "P1HyADVHurg_"
      },
      "execution_count": 3,
      "outputs": []
    },
    {
      "cell_type": "markdown",
      "source": [
        "Defining randomsolutions(tsp) function to randomly select the cities from the list\n",
        "\n",
        "*   creating a cities list using the input\n",
        "*   making a solution list to append the visited cities\n",
        "*   iterating through the input and selecting a randomcity from the cities list\n",
        "*   and removing that from the original cities list\n",
        "*   returning the solution list"
      ],
      "metadata": {
        "id": "4iSUDP9XwDls"
      }
    },
    {
      "cell_type": "code",
      "source": [
        "def routelength(tsp,solution):\n",
        "  routelength = 0\n",
        "  for i in range(len(solution)):\n",
        "    routelength += tsp[solution[i-1]][solution[i]]\n",
        "  return routelength"
      ],
      "metadata": {
        "id": "q9aP4dSSvLit"
      },
      "execution_count": 4,
      "outputs": []
    },
    {
      "cell_type": "markdown",
      "source": [
        "Defining routelength(tsp,solution) function to calculate the randomlength of the solution\n",
        "* initialising the randomlength to 0\n",
        "* iterating through the solution\n",
        "* adding the distance between the cities in the solutions list\n",
        "* returning the routelength\n",
        "\n"
      ],
      "metadata": {
        "id": "BJGZ_Yapx-46"
      }
    },
    {
      "cell_type": "code",
      "source": [
        "def getneighbours(solution):\n",
        "  neighbours = []\n",
        "  for i in range(len(solution)):\n",
        "    for j in range(i+1, len(solution)):\n",
        "      neighbour = solution.copy()\n",
        "      neighbour[i] = solution[j]\n",
        "      neighbour[j] = solution[i]\n",
        "      neighbours.append(neighbour)\n",
        "  return neighbours"
      ],
      "metadata": {
        "id": "WylaC09Ex-Y7"
      },
      "execution_count": 6,
      "outputs": []
    },
    {
      "cell_type": "markdown",
      "source": [
        "Defining the getneighbours(solution) function\n",
        "* creating a list called neighbours\n",
        "* i iterates through the solution list and select a city\n",
        "* j iterates throgh the list to find another city to swap with i'th city\n",
        "* copying the solution to avoid any altering of the original list\n",
        "* swapping the cities\n",
        "* appending the swapped cities to the neighbours[] list\n",
        "* returning the neighbours list"
      ],
      "metadata": {
        "id": "sSpam206z4iG"
      }
    },
    {
      "cell_type": "code",
      "source": [
        "def getbestneighbour(tsp,neighbours):\n",
        "  bestroutelength = routelength(tsp,neighbours[0])\n",
        "  bestneighbour = neighbours[0]\n",
        "  for neighbour in neighbours:\n",
        "    currentroutelength = routelength(tsp, neighbour)\n",
        "    if currentroutelength < bestroutelength:\n",
        "      bestroutelength = currentroutelength\n",
        "      bestneighbour = neighbour\n",
        "      return bestneighbour, bestroutelength"
      ],
      "metadata": {
        "id": "TYzu_DTp2VOc"
      },
      "execution_count": 8,
      "outputs": []
    },
    {
      "cell_type": "markdown",
      "source": [
        "Defining getbestneighbour(tsp, neighbours) function to get the neighbour cities of shortest distance\n",
        "* initializing bestroutelength\n",
        "* and bestneighbour\n",
        "* iterating through the neighbour cities in the neighbours list\n",
        "* making the currentroutelength as the routelength of the first neighbour\n",
        "* if the current is lesser then the best length, swapping it and the neighbour\n",
        "* returning the neighbour after each iteration and the best route length"
      ],
      "metadata": {
        "id": "unV3LqRz3H4F"
      }
    },
    {
      "cell_type": "code",
      "source": [
        "def hillclimbing(tsp):\n",
        "  currentsolution = randomsolution(tsp)\n",
        "  currentroutelength = routelength(tsp, currentsolution)\n",
        "  neighbours = getneighbours(currentsolution)\n",
        "  bestneighbour, bestneighbourroutelength = getbestneighbour(tsp, neighbours)\n",
        "  while bestneighbourroutelength < currentroutelength:\n",
        "    currentsolution = bestneighbour\n",
        "    currentroutelength = bestneighbourroutelength\n",
        "    neighbours = getneighbours(currentsolution)\n",
        "    bestneighbour, bestneighbourroutelength = getbestneighbour(tsp, neighbours)\n",
        "  return currentsolution, currentroutelength"
      ],
      "metadata": {
        "id": "aBEzprvZ4GDp"
      },
      "execution_count": 14,
      "outputs": []
    },
    {
      "cell_type": "markdown",
      "source": [
        "Defining the hillclimbing(tsp) function\n",
        "* calling the basic functions to calculate the currentsolution\n",
        "* then comparing with the best solutions using the best functions\n",
        "* atlast returning the best solutions"
      ],
      "metadata": {
        "id": "spsL3-0a6cT3"
      }
    },
    {
      "cell_type": "code",
      "source": [
        "def main():\n",
        "  tsp = [[0,4,7,6],[4,0,8,2],[7,8,0,5],[6,2,5,0]]\n",
        "  print(hillclimbing(tsp))"
      ],
      "metadata": {
        "id": "gx11HF_z56zs"
      },
      "execution_count": 13,
      "outputs": []
    },
    {
      "cell_type": "markdown",
      "source": [
        "In the main function calling the hillclimbing function"
      ],
      "metadata": {
        "id": "BEHwQK25648a"
      }
    }
  ]
}