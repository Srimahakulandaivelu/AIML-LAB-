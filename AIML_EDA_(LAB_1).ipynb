{
  "nbformat": 4,
  "nbformat_minor": 0,
  "metadata": {
    "colab": {
      "provenance": []
    },
    "kernelspec": {
      "name": "python3",
      "display_name": "Python 3"
    },
    "language_info": {
      "name": "python"
    }
  },
  "cells": [
    {
      "cell_type": "markdown",
      "source": [
        "Importing necessary Libraries to carry out the analysis of the dataset"
      ],
      "metadata": {
        "id": "40daXk6ZEKnY"
      }
    },
    {
      "cell_type": "code",
      "execution_count": null,
      "metadata": {
        "id": "enjA5NrQD0Qf"
      },
      "outputs": [],
      "source": [
        "import pandas as pd\n",
        "import matplotlib.pyplot as plt\n",
        "import numpy as np\n",
        "import seaborn as sns"
      ]
    },
    {
      "cell_type": "markdown",
      "source": [
        "**TASK 0 : ABOUT THE** **DATASET**"
      ],
      "metadata": {
        "id": "VBCDgUyWEWq6"
      }
    },
    {
      "cell_type": "markdown",
      "source": [
        "Creating a dataframe using the pandas read_csv function"
      ],
      "metadata": {
        "id": "0zYqeEuiE9g7"
      }
    },
    {
      "cell_type": "code",
      "source": [
        "df = pd.read_csv('Titanic-Dataset.csv')"
      ],
      "metadata": {
        "id": "5p0eulgaEjRa"
      },
      "execution_count": null,
      "outputs": []
    },
    {
      "cell_type": "markdown",
      "source": [
        "Displaying basic characteristics of the dataset and understanding them"
      ],
      "metadata": {
        "id": "9Le9lbyhFKuV"
      }
    },
    {
      "cell_type": "code",
      "source": [
        "df.head()"
      ],
      "metadata": {
        "id": "wmO40IiQFFqH",
        "colab": {
          "base_uri": "https://localhost:8080/",
          "height": 504
        },
        "outputId": "74f4e35f-e4ef-4434-86ce-9b2d1aac89c6"
      },
      "execution_count": null,
      "outputs": [
        {
          "output_type": "execute_result",
          "data": {
            "text/plain": [
              "   PassengerId  Survived  Pclass  \\\n",
              "0            1         0       3   \n",
              "1            2         1       1   \n",
              "2            3         1       3   \n",
              "3            4         1       1   \n",
              "4            5         0       3   \n",
              "\n",
              "                                                Name     Sex   Age  SibSp  \\\n",
              "0                            Braund, Mr. Owen Harris    male  22.0      1   \n",
              "1  Cumings, Mrs. John Bradley (Florence Briggs Th...  female  38.0      1   \n",
              "2                             Heikkinen, Miss. Laina  female  26.0      0   \n",
              "3       Futrelle, Mrs. Jacques Heath (Lily May Peel)  female  35.0      1   \n",
              "4                           Allen, Mr. William Henry    male  35.0      0   \n",
              "\n",
              "   Parch            Ticket     Fare Cabin Embarked  \n",
              "0      0         A/5 21171   7.2500   NaN        S  \n",
              "1      0          PC 17599  71.2833   C85        C  \n",
              "2      0  STON/O2. 3101282   7.9250   NaN        S  \n",
              "3      0            113803  53.1000  C123        S  \n",
              "4      0            373450   8.0500   NaN        S  "
            ],
            "text/html": [
              "\n",
              "  <div id=\"df-8a5c8de5-0ee8-4541-ab07-e0f8ad3418ac\" class=\"colab-df-container\">\n",
              "    <div>\n",
              "<style scoped>\n",
              "    .dataframe tbody tr th:only-of-type {\n",
              "        vertical-align: middle;\n",
              "    }\n",
              "\n",
              "    .dataframe tbody tr th {\n",
              "        vertical-align: top;\n",
              "    }\n",
              "\n",
              "    .dataframe thead th {\n",
              "        text-align: right;\n",
              "    }\n",
              "</style>\n",
              "<table border=\"1\" class=\"dataframe\">\n",
              "  <thead>\n",
              "    <tr style=\"text-align: right;\">\n",
              "      <th></th>\n",
              "      <th>PassengerId</th>\n",
              "      <th>Survived</th>\n",
              "      <th>Pclass</th>\n",
              "      <th>Name</th>\n",
              "      <th>Sex</th>\n",
              "      <th>Age</th>\n",
              "      <th>SibSp</th>\n",
              "      <th>Parch</th>\n",
              "      <th>Ticket</th>\n",
              "      <th>Fare</th>\n",
              "      <th>Cabin</th>\n",
              "      <th>Embarked</th>\n",
              "    </tr>\n",
              "  </thead>\n",
              "  <tbody>\n",
              "    <tr>\n",
              "      <th>0</th>\n",
              "      <td>1</td>\n",
              "      <td>0</td>\n",
              "      <td>3</td>\n",
              "      <td>Braund, Mr. Owen Harris</td>\n",
              "      <td>male</td>\n",
              "      <td>22.0</td>\n",
              "      <td>1</td>\n",
              "      <td>0</td>\n",
              "      <td>A/5 21171</td>\n",
              "      <td>7.2500</td>\n",
              "      <td>NaN</td>\n",
              "      <td>S</td>\n",
              "    </tr>\n",
              "    <tr>\n",
              "      <th>1</th>\n",
              "      <td>2</td>\n",
              "      <td>1</td>\n",
              "      <td>1</td>\n",
              "      <td>Cumings, Mrs. John Bradley (Florence Briggs Th...</td>\n",
              "      <td>female</td>\n",
              "      <td>38.0</td>\n",
              "      <td>1</td>\n",
              "      <td>0</td>\n",
              "      <td>PC 17599</td>\n",
              "      <td>71.2833</td>\n",
              "      <td>C85</td>\n",
              "      <td>C</td>\n",
              "    </tr>\n",
              "    <tr>\n",
              "      <th>2</th>\n",
              "      <td>3</td>\n",
              "      <td>1</td>\n",
              "      <td>3</td>\n",
              "      <td>Heikkinen, Miss. Laina</td>\n",
              "      <td>female</td>\n",
              "      <td>26.0</td>\n",
              "      <td>0</td>\n",
              "      <td>0</td>\n",
              "      <td>STON/O2. 3101282</td>\n",
              "      <td>7.9250</td>\n",
              "      <td>NaN</td>\n",
              "      <td>S</td>\n",
              "    </tr>\n",
              "    <tr>\n",
              "      <th>3</th>\n",
              "      <td>4</td>\n",
              "      <td>1</td>\n",
              "      <td>1</td>\n",
              "      <td>Futrelle, Mrs. Jacques Heath (Lily May Peel)</td>\n",
              "      <td>female</td>\n",
              "      <td>35.0</td>\n",
              "      <td>1</td>\n",
              "      <td>0</td>\n",
              "      <td>113803</td>\n",
              "      <td>53.1000</td>\n",
              "      <td>C123</td>\n",
              "      <td>S</td>\n",
              "    </tr>\n",
              "    <tr>\n",
              "      <th>4</th>\n",
              "      <td>5</td>\n",
              "      <td>0</td>\n",
              "      <td>3</td>\n",
              "      <td>Allen, Mr. William Henry</td>\n",
              "      <td>male</td>\n",
              "      <td>35.0</td>\n",
              "      <td>0</td>\n",
              "      <td>0</td>\n",
              "      <td>373450</td>\n",
              "      <td>8.0500</td>\n",
              "      <td>NaN</td>\n",
              "      <td>S</td>\n",
              "    </tr>\n",
              "  </tbody>\n",
              "</table>\n",
              "</div>\n",
              "    <div class=\"colab-df-buttons\">\n",
              "\n",
              "  <div class=\"colab-df-container\">\n",
              "    <button class=\"colab-df-convert\" onclick=\"convertToInteractive('df-8a5c8de5-0ee8-4541-ab07-e0f8ad3418ac')\"\n",
              "            title=\"Convert this dataframe to an interactive table.\"\n",
              "            style=\"display:none;\">\n",
              "\n",
              "  <svg xmlns=\"http://www.w3.org/2000/svg\" height=\"24px\" viewBox=\"0 -960 960 960\">\n",
              "    <path d=\"M120-120v-720h720v720H120Zm60-500h600v-160H180v160Zm220 220h160v-160H400v160Zm0 220h160v-160H400v160ZM180-400h160v-160H180v160Zm440 0h160v-160H620v160ZM180-180h160v-160H180v160Zm440 0h160v-160H620v160Z\"/>\n",
              "  </svg>\n",
              "    </button>\n",
              "\n",
              "  <style>\n",
              "    .colab-df-container {\n",
              "      display:flex;\n",
              "      gap: 12px;\n",
              "    }\n",
              "\n",
              "    .colab-df-convert {\n",
              "      background-color: #E8F0FE;\n",
              "      border: none;\n",
              "      border-radius: 50%;\n",
              "      cursor: pointer;\n",
              "      display: none;\n",
              "      fill: #1967D2;\n",
              "      height: 32px;\n",
              "      padding: 0 0 0 0;\n",
              "      width: 32px;\n",
              "    }\n",
              "\n",
              "    .colab-df-convert:hover {\n",
              "      background-color: #E2EBFA;\n",
              "      box-shadow: 0px 1px 2px rgba(60, 64, 67, 0.3), 0px 1px 3px 1px rgba(60, 64, 67, 0.15);\n",
              "      fill: #174EA6;\n",
              "    }\n",
              "\n",
              "    .colab-df-buttons div {\n",
              "      margin-bottom: 4px;\n",
              "    }\n",
              "\n",
              "    [theme=dark] .colab-df-convert {\n",
              "      background-color: #3B4455;\n",
              "      fill: #D2E3FC;\n",
              "    }\n",
              "\n",
              "    [theme=dark] .colab-df-convert:hover {\n",
              "      background-color: #434B5C;\n",
              "      box-shadow: 0px 1px 3px 1px rgba(0, 0, 0, 0.15);\n",
              "      filter: drop-shadow(0px 1px 2px rgba(0, 0, 0, 0.3));\n",
              "      fill: #FFFFFF;\n",
              "    }\n",
              "  </style>\n",
              "\n",
              "    <script>\n",
              "      const buttonEl =\n",
              "        document.querySelector('#df-8a5c8de5-0ee8-4541-ab07-e0f8ad3418ac button.colab-df-convert');\n",
              "      buttonEl.style.display =\n",
              "        google.colab.kernel.accessAllowed ? 'block' : 'none';\n",
              "\n",
              "      async function convertToInteractive(key) {\n",
              "        const element = document.querySelector('#df-8a5c8de5-0ee8-4541-ab07-e0f8ad3418ac');\n",
              "        const dataTable =\n",
              "          await google.colab.kernel.invokeFunction('convertToInteractive',\n",
              "                                                    [key], {});\n",
              "        if (!dataTable) return;\n",
              "\n",
              "        const docLinkHtml = 'Like what you see? Visit the ' +\n",
              "          '<a target=\"_blank\" href=https://colab.research.google.com/notebooks/data_table.ipynb>data table notebook</a>'\n",
              "          + ' to learn more about interactive tables.';\n",
              "        element.innerHTML = '';\n",
              "        dataTable['output_type'] = 'display_data';\n",
              "        await google.colab.output.renderOutput(dataTable, element);\n",
              "        const docLink = document.createElement('div');\n",
              "        docLink.innerHTML = docLinkHtml;\n",
              "        element.appendChild(docLink);\n",
              "      }\n",
              "    </script>\n",
              "  </div>\n",
              "\n",
              "\n",
              "<div id=\"df-aa925777-13dd-4b9f-82cb-008cde4d0871\">\n",
              "  <button class=\"colab-df-quickchart\" onclick=\"quickchart('df-aa925777-13dd-4b9f-82cb-008cde4d0871')\"\n",
              "            title=\"Suggest charts\"\n",
              "            style=\"display:none;\">\n",
              "\n",
              "<svg xmlns=\"http://www.w3.org/2000/svg\" height=\"24px\"viewBox=\"0 0 24 24\"\n",
              "     width=\"24px\">\n",
              "    <g>\n",
              "        <path d=\"M19 3H5c-1.1 0-2 .9-2 2v14c0 1.1.9 2 2 2h14c1.1 0 2-.9 2-2V5c0-1.1-.9-2-2-2zM9 17H7v-7h2v7zm4 0h-2V7h2v10zm4 0h-2v-4h2v4z\"/>\n",
              "    </g>\n",
              "</svg>\n",
              "  </button>\n",
              "\n",
              "<style>\n",
              "  .colab-df-quickchart {\n",
              "      --bg-color: #E8F0FE;\n",
              "      --fill-color: #1967D2;\n",
              "      --hover-bg-color: #E2EBFA;\n",
              "      --hover-fill-color: #174EA6;\n",
              "      --disabled-fill-color: #AAA;\n",
              "      --disabled-bg-color: #DDD;\n",
              "  }\n",
              "\n",
              "  [theme=dark] .colab-df-quickchart {\n",
              "      --bg-color: #3B4455;\n",
              "      --fill-color: #D2E3FC;\n",
              "      --hover-bg-color: #434B5C;\n",
              "      --hover-fill-color: #FFFFFF;\n",
              "      --disabled-bg-color: #3B4455;\n",
              "      --disabled-fill-color: #666;\n",
              "  }\n",
              "\n",
              "  .colab-df-quickchart {\n",
              "    background-color: var(--bg-color);\n",
              "    border: none;\n",
              "    border-radius: 50%;\n",
              "    cursor: pointer;\n",
              "    display: none;\n",
              "    fill: var(--fill-color);\n",
              "    height: 32px;\n",
              "    padding: 0;\n",
              "    width: 32px;\n",
              "  }\n",
              "\n",
              "  .colab-df-quickchart:hover {\n",
              "    background-color: var(--hover-bg-color);\n",
              "    box-shadow: 0 1px 2px rgba(60, 64, 67, 0.3), 0 1px 3px 1px rgba(60, 64, 67, 0.15);\n",
              "    fill: var(--button-hover-fill-color);\n",
              "  }\n",
              "\n",
              "  .colab-df-quickchart-complete:disabled,\n",
              "  .colab-df-quickchart-complete:disabled:hover {\n",
              "    background-color: var(--disabled-bg-color);\n",
              "    fill: var(--disabled-fill-color);\n",
              "    box-shadow: none;\n",
              "  }\n",
              "\n",
              "  .colab-df-spinner {\n",
              "    border: 2px solid var(--fill-color);\n",
              "    border-color: transparent;\n",
              "    border-bottom-color: var(--fill-color);\n",
              "    animation:\n",
              "      spin 1s steps(1) infinite;\n",
              "  }\n",
              "\n",
              "  @keyframes spin {\n",
              "    0% {\n",
              "      border-color: transparent;\n",
              "      border-bottom-color: var(--fill-color);\n",
              "      border-left-color: var(--fill-color);\n",
              "    }\n",
              "    20% {\n",
              "      border-color: transparent;\n",
              "      border-left-color: var(--fill-color);\n",
              "      border-top-color: var(--fill-color);\n",
              "    }\n",
              "    30% {\n",
              "      border-color: transparent;\n",
              "      border-left-color: var(--fill-color);\n",
              "      border-top-color: var(--fill-color);\n",
              "      border-right-color: var(--fill-color);\n",
              "    }\n",
              "    40% {\n",
              "      border-color: transparent;\n",
              "      border-right-color: var(--fill-color);\n",
              "      border-top-color: var(--fill-color);\n",
              "    }\n",
              "    60% {\n",
              "      border-color: transparent;\n",
              "      border-right-color: var(--fill-color);\n",
              "    }\n",
              "    80% {\n",
              "      border-color: transparent;\n",
              "      border-right-color: var(--fill-color);\n",
              "      border-bottom-color: var(--fill-color);\n",
              "    }\n",
              "    90% {\n",
              "      border-color: transparent;\n",
              "      border-bottom-color: var(--fill-color);\n",
              "    }\n",
              "  }\n",
              "</style>\n",
              "\n",
              "  <script>\n",
              "    async function quickchart(key) {\n",
              "      const quickchartButtonEl =\n",
              "        document.querySelector('#' + key + ' button');\n",
              "      quickchartButtonEl.disabled = true;  // To prevent multiple clicks.\n",
              "      quickchartButtonEl.classList.add('colab-df-spinner');\n",
              "      try {\n",
              "        const charts = await google.colab.kernel.invokeFunction(\n",
              "            'suggestCharts', [key], {});\n",
              "      } catch (error) {\n",
              "        console.error('Error during call to suggestCharts:', error);\n",
              "      }\n",
              "      quickchartButtonEl.classList.remove('colab-df-spinner');\n",
              "      quickchartButtonEl.classList.add('colab-df-quickchart-complete');\n",
              "    }\n",
              "    (() => {\n",
              "      let quickchartButtonEl =\n",
              "        document.querySelector('#df-aa925777-13dd-4b9f-82cb-008cde4d0871 button');\n",
              "      quickchartButtonEl.style.display =\n",
              "        google.colab.kernel.accessAllowed ? 'block' : 'none';\n",
              "    })();\n",
              "  </script>\n",
              "</div>\n",
              "\n",
              "    </div>\n",
              "  </div>\n"
            ],
            "application/vnd.google.colaboratory.intrinsic+json": {
              "type": "dataframe",
              "variable_name": "df",
              "summary": "{\n  \"name\": \"df\",\n  \"rows\": 891,\n  \"fields\": [\n    {\n      \"column\": \"PassengerId\",\n      \"properties\": {\n        \"dtype\": \"number\",\n        \"std\": 257,\n        \"min\": 1,\n        \"max\": 891,\n        \"num_unique_values\": 891,\n        \"samples\": [\n          710,\n          440,\n          841\n        ],\n        \"semantic_type\": \"\",\n        \"description\": \"\"\n      }\n    },\n    {\n      \"column\": \"Survived\",\n      \"properties\": {\n        \"dtype\": \"number\",\n        \"std\": 0,\n        \"min\": 0,\n        \"max\": 1,\n        \"num_unique_values\": 2,\n        \"samples\": [\n          1,\n          0\n        ],\n        \"semantic_type\": \"\",\n        \"description\": \"\"\n      }\n    },\n    {\n      \"column\": \"Pclass\",\n      \"properties\": {\n        \"dtype\": \"number\",\n        \"std\": 0,\n        \"min\": 1,\n        \"max\": 3,\n        \"num_unique_values\": 3,\n        \"samples\": [\n          3,\n          1\n        ],\n        \"semantic_type\": \"\",\n        \"description\": \"\"\n      }\n    },\n    {\n      \"column\": \"Name\",\n      \"properties\": {\n        \"dtype\": \"string\",\n        \"num_unique_values\": 891,\n        \"samples\": [\n          \"Moubarek, Master. Halim Gonios (\\\"William George\\\")\",\n          \"Kvillner, Mr. Johan Henrik Johannesson\"\n        ],\n        \"semantic_type\": \"\",\n        \"description\": \"\"\n      }\n    },\n    {\n      \"column\": \"Sex\",\n      \"properties\": {\n        \"dtype\": \"category\",\n        \"num_unique_values\": 2,\n        \"samples\": [\n          \"female\",\n          \"male\"\n        ],\n        \"semantic_type\": \"\",\n        \"description\": \"\"\n      }\n    },\n    {\n      \"column\": \"Age\",\n      \"properties\": {\n        \"dtype\": \"number\",\n        \"std\": 14.526497332334044,\n        \"min\": 0.42,\n        \"max\": 80.0,\n        \"num_unique_values\": 88,\n        \"samples\": [\n          0.75,\n          22.0\n        ],\n        \"semantic_type\": \"\",\n        \"description\": \"\"\n      }\n    },\n    {\n      \"column\": \"SibSp\",\n      \"properties\": {\n        \"dtype\": \"number\",\n        \"std\": 1,\n        \"min\": 0,\n        \"max\": 8,\n        \"num_unique_values\": 7,\n        \"samples\": [\n          1,\n          0\n        ],\n        \"semantic_type\": \"\",\n        \"description\": \"\"\n      }\n    },\n    {\n      \"column\": \"Parch\",\n      \"properties\": {\n        \"dtype\": \"number\",\n        \"std\": 0,\n        \"min\": 0,\n        \"max\": 6,\n        \"num_unique_values\": 7,\n        \"samples\": [\n          0,\n          1\n        ],\n        \"semantic_type\": \"\",\n        \"description\": \"\"\n      }\n    },\n    {\n      \"column\": \"Ticket\",\n      \"properties\": {\n        \"dtype\": \"string\",\n        \"num_unique_values\": 681,\n        \"samples\": [\n          \"11774\",\n          \"248740\"\n        ],\n        \"semantic_type\": \"\",\n        \"description\": \"\"\n      }\n    },\n    {\n      \"column\": \"Fare\",\n      \"properties\": {\n        \"dtype\": \"number\",\n        \"std\": 49.693428597180905,\n        \"min\": 0.0,\n        \"max\": 512.3292,\n        \"num_unique_values\": 248,\n        \"samples\": [\n          11.2417,\n          51.8625\n        ],\n        \"semantic_type\": \"\",\n        \"description\": \"\"\n      }\n    },\n    {\n      \"column\": \"Cabin\",\n      \"properties\": {\n        \"dtype\": \"category\",\n        \"num_unique_values\": 147,\n        \"samples\": [\n          \"D45\",\n          \"B49\"\n        ],\n        \"semantic_type\": \"\",\n        \"description\": \"\"\n      }\n    },\n    {\n      \"column\": \"Embarked\",\n      \"properties\": {\n        \"dtype\": \"category\",\n        \"num_unique_values\": 3,\n        \"samples\": [\n          \"S\",\n          \"C\"\n        ],\n        \"semantic_type\": \"\",\n        \"description\": \"\"\n      }\n    }\n  ]\n}"
            }
          },
          "metadata": {},
          "execution_count": 4
        }
      ]
    },
    {
      "cell_type": "code",
      "source": [
        "print(\"Dataset shape:\", df.shape)"
      ],
      "metadata": {
        "id": "p1EUoJrpGAa6",
        "colab": {
          "base_uri": "https://localhost:8080/"
        },
        "outputId": "b30767c9-69f5-4a02-f39b-45833af8a33d"
      },
      "execution_count": null,
      "outputs": [
        {
          "output_type": "stream",
          "name": "stdout",
          "text": [
            "Dataset shape: (891, 12)\n"
          ]
        }
      ]
    },
    {
      "cell_type": "code",
      "source": [
        "df.info"
      ],
      "metadata": {
        "id": "84zH6PAhGKYC",
        "colab": {
          "base_uri": "https://localhost:8080/",
          "height": 204
        },
        "outputId": "9f63200d-cee1-4aa5-c03d-a514d0455797"
      },
      "execution_count": null,
      "outputs": [
        {
          "output_type": "execute_result",
          "data": {
            "text/plain": [
              "<bound method DataFrame.info of      PassengerId  Survived  Pclass  \\\n",
              "0              1         0       3   \n",
              "1              2         1       1   \n",
              "2              3         1       3   \n",
              "3              4         1       1   \n",
              "4              5         0       3   \n",
              "..           ...       ...     ...   \n",
              "886          887         0       2   \n",
              "887          888         1       1   \n",
              "888          889         0       3   \n",
              "889          890         1       1   \n",
              "890          891         0       3   \n",
              "\n",
              "                                                  Name     Sex   Age  SibSp  \\\n",
              "0                              Braund, Mr. Owen Harris    male  22.0      1   \n",
              "1    Cumings, Mrs. John Bradley (Florence Briggs Th...  female  38.0      1   \n",
              "2                               Heikkinen, Miss. Laina  female  26.0      0   \n",
              "3         Futrelle, Mrs. Jacques Heath (Lily May Peel)  female  35.0      1   \n",
              "4                             Allen, Mr. William Henry    male  35.0      0   \n",
              "..                                                 ...     ...   ...    ...   \n",
              "886                              Montvila, Rev. Juozas    male  27.0      0   \n",
              "887                       Graham, Miss. Margaret Edith  female  19.0      0   \n",
              "888           Johnston, Miss. Catherine Helen \"Carrie\"  female   NaN      1   \n",
              "889                              Behr, Mr. Karl Howell    male  26.0      0   \n",
              "890                                Dooley, Mr. Patrick    male  32.0      0   \n",
              "\n",
              "     Parch            Ticket     Fare Cabin Embarked  \n",
              "0        0         A/5 21171   7.2500   NaN        S  \n",
              "1        0          PC 17599  71.2833   C85        C  \n",
              "2        0  STON/O2. 3101282   7.9250   NaN        S  \n",
              "3        0            113803  53.1000  C123        S  \n",
              "4        0            373450   8.0500   NaN        S  \n",
              "..     ...               ...      ...   ...      ...  \n",
              "886      0            211536  13.0000   NaN        S  \n",
              "887      0            112053  30.0000   B42        S  \n",
              "888      2        W./C. 6607  23.4500   NaN        S  \n",
              "889      0            111369  30.0000  C148        C  \n",
              "890      0            370376   7.7500   NaN        Q  \n",
              "\n",
              "[891 rows x 12 columns]>"
            ],
            "text/html": [
              "<div style=\"max-width:800px; border: 1px solid var(--colab-border-color);\"><style>\n",
              "      pre.function-repr-contents {\n",
              "        overflow-x: auto;\n",
              "        padding: 8px 12px;\n",
              "        max-height: 500px;\n",
              "      }\n",
              "\n",
              "      pre.function-repr-contents.function-repr-contents-collapsed {\n",
              "        cursor: pointer;\n",
              "        max-height: 100px;\n",
              "      }\n",
              "    </style>\n",
              "    <pre style=\"white-space: initial; background:\n",
              "         var(--colab-secondary-surface-color); padding: 8px 12px;\n",
              "         border-bottom: 1px solid var(--colab-border-color);\"><b>pandas.core.frame.DataFrame.info</b><br/>def info(verbose: bool | None=None, buf: WriteBuffer[str] | None=None, max_cols: int | None=None, memory_usage: bool | str | None=None, show_counts: bool | None=None) -&gt; None</pre><pre class=\"function-repr-contents function-repr-contents-collapsed\" style=\"\"><a class=\"filepath\" style=\"display:none\" href=\"#\">/usr/local/lib/python3.11/dist-packages/pandas/core/frame.py</a>Print a concise summary of a DataFrame.\n",
              "\n",
              "This method prints information about a DataFrame including\n",
              "the index dtype and columns, non-null values and memory usage.\n",
              "\n",
              "Parameters\n",
              "----------\n",
              "verbose : bool, optional\n",
              "    Whether to print the full summary. By default, the setting in\n",
              "    ``pandas.options.display.max_info_columns`` is followed.\n",
              "buf : writable buffer, defaults to sys.stdout\n",
              "    Where to send the output. By default, the output is printed to\n",
              "    sys.stdout. Pass a writable buffer if you need to further process\n",
              "    the output.\n",
              "max_cols : int, optional\n",
              "    When to switch from the verbose to the truncated output. If the\n",
              "    DataFrame has more than `max_cols` columns, the truncated output\n",
              "    is used. By default, the setting in\n",
              "    ``pandas.options.display.max_info_columns`` is used.\n",
              "memory_usage : bool, str, optional\n",
              "    Specifies whether total memory usage of the DataFrame\n",
              "    elements (including the index) should be displayed. By default,\n",
              "    this follows the ``pandas.options.display.memory_usage`` setting.\n",
              "\n",
              "    True always show memory usage. False never shows memory usage.\n",
              "    A value of &#x27;deep&#x27; is equivalent to &quot;True with deep introspection&quot;.\n",
              "    Memory usage is shown in human-readable units (base-2\n",
              "    representation). Without deep introspection a memory estimation is\n",
              "    made based in column dtype and number of rows assuming values\n",
              "    consume the same memory amount for corresponding dtypes. With deep\n",
              "    memory introspection, a real memory usage calculation is performed\n",
              "    at the cost of computational resources. See the\n",
              "    :ref:`Frequently Asked Questions &lt;df-memory-usage&gt;` for more\n",
              "    details.\n",
              "show_counts : bool, optional\n",
              "    Whether to show the non-null counts. By default, this is shown\n",
              "    only if the DataFrame is smaller than\n",
              "    ``pandas.options.display.max_info_rows`` and\n",
              "    ``pandas.options.display.max_info_columns``. A value of True always\n",
              "    shows the counts, and False never shows the counts.\n",
              "\n",
              "Returns\n",
              "-------\n",
              "None\n",
              "    This method prints a summary of a DataFrame and returns None.\n",
              "\n",
              "See Also\n",
              "--------\n",
              "DataFrame.describe: Generate descriptive statistics of DataFrame\n",
              "    columns.\n",
              "DataFrame.memory_usage: Memory usage of DataFrame columns.\n",
              "\n",
              "Examples\n",
              "--------\n",
              "&gt;&gt;&gt; int_values = [1, 2, 3, 4, 5]\n",
              "&gt;&gt;&gt; text_values = [&#x27;alpha&#x27;, &#x27;beta&#x27;, &#x27;gamma&#x27;, &#x27;delta&#x27;, &#x27;epsilon&#x27;]\n",
              "&gt;&gt;&gt; float_values = [0.0, 0.25, 0.5, 0.75, 1.0]\n",
              "&gt;&gt;&gt; df = pd.DataFrame({&quot;int_col&quot;: int_values, &quot;text_col&quot;: text_values,\n",
              "...                   &quot;float_col&quot;: float_values})\n",
              "&gt;&gt;&gt; df\n",
              "    int_col text_col  float_col\n",
              "0        1    alpha       0.00\n",
              "1        2     beta       0.25\n",
              "2        3    gamma       0.50\n",
              "3        4    delta       0.75\n",
              "4        5  epsilon       1.00\n",
              "\n",
              "Prints information of all columns:\n",
              "\n",
              "&gt;&gt;&gt; df.info(verbose=True)\n",
              "&lt;class &#x27;pandas.core.frame.DataFrame&#x27;&gt;\n",
              "RangeIndex: 5 entries, 0 to 4\n",
              "Data columns (total 3 columns):\n",
              " #   Column     Non-Null Count  Dtype\n",
              "---  ------     --------------  -----\n",
              " 0   int_col    5 non-null      int64\n",
              " 1   text_col   5 non-null      object\n",
              " 2   float_col  5 non-null      float64\n",
              "dtypes: float64(1), int64(1), object(1)\n",
              "memory usage: 248.0+ bytes\n",
              "\n",
              "Prints a summary of columns count and its dtypes but not per column\n",
              "information:\n",
              "\n",
              "&gt;&gt;&gt; df.info(verbose=False)\n",
              "&lt;class &#x27;pandas.core.frame.DataFrame&#x27;&gt;\n",
              "RangeIndex: 5 entries, 0 to 4\n",
              "Columns: 3 entries, int_col to float_col\n",
              "dtypes: float64(1), int64(1), object(1)\n",
              "memory usage: 248.0+ bytes\n",
              "\n",
              "Pipe output of DataFrame.info to buffer instead of sys.stdout, get\n",
              "buffer content and writes to a text file:\n",
              "\n",
              "&gt;&gt;&gt; import io\n",
              "&gt;&gt;&gt; buffer = io.StringIO()\n",
              "&gt;&gt;&gt; df.info(buf=buffer)\n",
              "&gt;&gt;&gt; s = buffer.getvalue()\n",
              "&gt;&gt;&gt; with open(&quot;df_info.txt&quot;, &quot;w&quot;,\n",
              "...           encoding=&quot;utf-8&quot;) as f:  # doctest: +SKIP\n",
              "...     f.write(s)\n",
              "260\n",
              "\n",
              "The `memory_usage` parameter allows deep introspection mode, specially\n",
              "useful for big DataFrames and fine-tune memory optimization:\n",
              "\n",
              "&gt;&gt;&gt; random_strings_array = np.random.choice([&#x27;a&#x27;, &#x27;b&#x27;, &#x27;c&#x27;], 10 ** 6)\n",
              "&gt;&gt;&gt; df = pd.DataFrame({\n",
              "...     &#x27;column_1&#x27;: np.random.choice([&#x27;a&#x27;, &#x27;b&#x27;, &#x27;c&#x27;], 10 ** 6),\n",
              "...     &#x27;column_2&#x27;: np.random.choice([&#x27;a&#x27;, &#x27;b&#x27;, &#x27;c&#x27;], 10 ** 6),\n",
              "...     &#x27;column_3&#x27;: np.random.choice([&#x27;a&#x27;, &#x27;b&#x27;, &#x27;c&#x27;], 10 ** 6)\n",
              "... })\n",
              "&gt;&gt;&gt; df.info()\n",
              "&lt;class &#x27;pandas.core.frame.DataFrame&#x27;&gt;\n",
              "RangeIndex: 1000000 entries, 0 to 999999\n",
              "Data columns (total 3 columns):\n",
              " #   Column    Non-Null Count    Dtype\n",
              "---  ------    --------------    -----\n",
              " 0   column_1  1000000 non-null  object\n",
              " 1   column_2  1000000 non-null  object\n",
              " 2   column_3  1000000 non-null  object\n",
              "dtypes: object(3)\n",
              "memory usage: 22.9+ MB\n",
              "\n",
              "&gt;&gt;&gt; df.info(memory_usage=&#x27;deep&#x27;)\n",
              "&lt;class &#x27;pandas.core.frame.DataFrame&#x27;&gt;\n",
              "RangeIndex: 1000000 entries, 0 to 999999\n",
              "Data columns (total 3 columns):\n",
              " #   Column    Non-Null Count    Dtype\n",
              "---  ------    --------------    -----\n",
              " 0   column_1  1000000 non-null  object\n",
              " 1   column_2  1000000 non-null  object\n",
              " 2   column_3  1000000 non-null  object\n",
              "dtypes: object(3)\n",
              "memory usage: 165.9 MB</pre>\n",
              "      <script>\n",
              "      if (google.colab.kernel.accessAllowed && google.colab.files && google.colab.files.view) {\n",
              "        for (const element of document.querySelectorAll('.filepath')) {\n",
              "          element.style.display = 'block'\n",
              "          element.onclick = (event) => {\n",
              "            event.preventDefault();\n",
              "            event.stopPropagation();\n",
              "            google.colab.files.view(element.textContent, 3646);\n",
              "          };\n",
              "        }\n",
              "      }\n",
              "      for (const element of document.querySelectorAll('.function-repr-contents')) {\n",
              "        element.onclick = (event) => {\n",
              "          event.preventDefault();\n",
              "          event.stopPropagation();\n",
              "          element.classList.toggle('function-repr-contents-collapsed');\n",
              "        };\n",
              "      }\n",
              "      </script>\n",
              "      </div>"
            ]
          },
          "metadata": {},
          "execution_count": 6
        }
      ]
    },
    {
      "cell_type": "code",
      "source": [
        "print(\"Dataset size:\",df.size)"
      ],
      "metadata": {
        "id": "FfJoO4PaGP6b",
        "colab": {
          "base_uri": "https://localhost:8080/"
        },
        "outputId": "e359781f-81e9-42e9-e3e4-772424e9457b"
      },
      "execution_count": null,
      "outputs": [
        {
          "output_type": "stream",
          "name": "stdout",
          "text": [
            "Dataset size: 10692\n"
          ]
        }
      ]
    },
    {
      "cell_type": "code",
      "source": [
        "print(\"Missing values:\", df.isnull().sum())"
      ],
      "metadata": {
        "id": "hNCur3BFGdqt",
        "colab": {
          "base_uri": "https://localhost:8080/"
        },
        "outputId": "e6ef9deb-6cf4-4926-ee11-13f601d7364b"
      },
      "execution_count": null,
      "outputs": [
        {
          "output_type": "stream",
          "name": "stdout",
          "text": [
            "Missing values: PassengerId      0\n",
            "Survived         0\n",
            "Pclass           0\n",
            "Name             0\n",
            "Sex              0\n",
            "Age            177\n",
            "SibSp            0\n",
            "Parch            0\n",
            "Ticket           0\n",
            "Fare             0\n",
            "Cabin          687\n",
            "Embarked         2\n",
            "dtype: int64\n"
          ]
        }
      ]
    },
    {
      "cell_type": "code",
      "source": [
        "print(\"Duplicated rows:\", df.duplicated().sum())"
      ],
      "metadata": {
        "id": "EqSuZuPkGrTo",
        "colab": {
          "base_uri": "https://localhost:8080/"
        },
        "outputId": "79c0307a-a37b-440d-bf10-c86810018c99"
      },
      "execution_count": null,
      "outputs": [
        {
          "output_type": "stream",
          "name": "stdout",
          "text": [
            "Duplicated rows: 0\n"
          ]
        }
      ]
    },
    {
      "cell_type": "markdown",
      "source": [
        "**TASK 1 : DESCRIPTIVE STATISTICS**"
      ],
      "metadata": {
        "id": "DDFZ7OOjHOwM"
      }
    },
    {
      "cell_type": "markdown",
      "source": [
        "By doing a descriptive analysis we can study about the overall trends present in the dataset"
      ],
      "metadata": {
        "id": "N-MxqEEqHkG-"
      }
    },
    {
      "cell_type": "markdown",
      "source": [
        "*1.Summary statistics for numerical* *columns*"
      ],
      "metadata": {
        "id": "U1aAx__9Jiiy"
      }
    },
    {
      "cell_type": "code",
      "source": [
        "df[['Age','Fare']].describe()"
      ],
      "metadata": {
        "colab": {
          "base_uri": "https://localhost:8080/",
          "height": 300
        },
        "id": "JKN21ymEH-C2",
        "outputId": "f45f3a0d-ff17-4017-f387-270344e52642"
      },
      "execution_count": null,
      "outputs": [
        {
          "output_type": "execute_result",
          "data": {
            "text/plain": [
              "              Age        Fare\n",
              "count  714.000000  891.000000\n",
              "mean    29.699118   32.204208\n",
              "std     14.526497   49.693429\n",
              "min      0.420000    0.000000\n",
              "25%     20.125000    7.910400\n",
              "50%     28.000000   14.454200\n",
              "75%     38.000000   31.000000\n",
              "max     80.000000  512.329200"
            ],
            "text/html": [
              "\n",
              "  <div id=\"df-b8fdecf2-9c2c-499e-9bf0-ff132d216920\" class=\"colab-df-container\">\n",
              "    <div>\n",
              "<style scoped>\n",
              "    .dataframe tbody tr th:only-of-type {\n",
              "        vertical-align: middle;\n",
              "    }\n",
              "\n",
              "    .dataframe tbody tr th {\n",
              "        vertical-align: top;\n",
              "    }\n",
              "\n",
              "    .dataframe thead th {\n",
              "        text-align: right;\n",
              "    }\n",
              "</style>\n",
              "<table border=\"1\" class=\"dataframe\">\n",
              "  <thead>\n",
              "    <tr style=\"text-align: right;\">\n",
              "      <th></th>\n",
              "      <th>Age</th>\n",
              "      <th>Fare</th>\n",
              "    </tr>\n",
              "  </thead>\n",
              "  <tbody>\n",
              "    <tr>\n",
              "      <th>count</th>\n",
              "      <td>714.000000</td>\n",
              "      <td>891.000000</td>\n",
              "    </tr>\n",
              "    <tr>\n",
              "      <th>mean</th>\n",
              "      <td>29.699118</td>\n",
              "      <td>32.204208</td>\n",
              "    </tr>\n",
              "    <tr>\n",
              "      <th>std</th>\n",
              "      <td>14.526497</td>\n",
              "      <td>49.693429</td>\n",
              "    </tr>\n",
              "    <tr>\n",
              "      <th>min</th>\n",
              "      <td>0.420000</td>\n",
              "      <td>0.000000</td>\n",
              "    </tr>\n",
              "    <tr>\n",
              "      <th>25%</th>\n",
              "      <td>20.125000</td>\n",
              "      <td>7.910400</td>\n",
              "    </tr>\n",
              "    <tr>\n",
              "      <th>50%</th>\n",
              "      <td>28.000000</td>\n",
              "      <td>14.454200</td>\n",
              "    </tr>\n",
              "    <tr>\n",
              "      <th>75%</th>\n",
              "      <td>38.000000</td>\n",
              "      <td>31.000000</td>\n",
              "    </tr>\n",
              "    <tr>\n",
              "      <th>max</th>\n",
              "      <td>80.000000</td>\n",
              "      <td>512.329200</td>\n",
              "    </tr>\n",
              "  </tbody>\n",
              "</table>\n",
              "</div>\n",
              "    <div class=\"colab-df-buttons\">\n",
              "\n",
              "  <div class=\"colab-df-container\">\n",
              "    <button class=\"colab-df-convert\" onclick=\"convertToInteractive('df-b8fdecf2-9c2c-499e-9bf0-ff132d216920')\"\n",
              "            title=\"Convert this dataframe to an interactive table.\"\n",
              "            style=\"display:none;\">\n",
              "\n",
              "  <svg xmlns=\"http://www.w3.org/2000/svg\" height=\"24px\" viewBox=\"0 -960 960 960\">\n",
              "    <path d=\"M120-120v-720h720v720H120Zm60-500h600v-160H180v160Zm220 220h160v-160H400v160Zm0 220h160v-160H400v160ZM180-400h160v-160H180v160Zm440 0h160v-160H620v160ZM180-180h160v-160H180v160Zm440 0h160v-160H620v160Z\"/>\n",
              "  </svg>\n",
              "    </button>\n",
              "\n",
              "  <style>\n",
              "    .colab-df-container {\n",
              "      display:flex;\n",
              "      gap: 12px;\n",
              "    }\n",
              "\n",
              "    .colab-df-convert {\n",
              "      background-color: #E8F0FE;\n",
              "      border: none;\n",
              "      border-radius: 50%;\n",
              "      cursor: pointer;\n",
              "      display: none;\n",
              "      fill: #1967D2;\n",
              "      height: 32px;\n",
              "      padding: 0 0 0 0;\n",
              "      width: 32px;\n",
              "    }\n",
              "\n",
              "    .colab-df-convert:hover {\n",
              "      background-color: #E2EBFA;\n",
              "      box-shadow: 0px 1px 2px rgba(60, 64, 67, 0.3), 0px 1px 3px 1px rgba(60, 64, 67, 0.15);\n",
              "      fill: #174EA6;\n",
              "    }\n",
              "\n",
              "    .colab-df-buttons div {\n",
              "      margin-bottom: 4px;\n",
              "    }\n",
              "\n",
              "    [theme=dark] .colab-df-convert {\n",
              "      background-color: #3B4455;\n",
              "      fill: #D2E3FC;\n",
              "    }\n",
              "\n",
              "    [theme=dark] .colab-df-convert:hover {\n",
              "      background-color: #434B5C;\n",
              "      box-shadow: 0px 1px 3px 1px rgba(0, 0, 0, 0.15);\n",
              "      filter: drop-shadow(0px 1px 2px rgba(0, 0, 0, 0.3));\n",
              "      fill: #FFFFFF;\n",
              "    }\n",
              "  </style>\n",
              "\n",
              "    <script>\n",
              "      const buttonEl =\n",
              "        document.querySelector('#df-b8fdecf2-9c2c-499e-9bf0-ff132d216920 button.colab-df-convert');\n",
              "      buttonEl.style.display =\n",
              "        google.colab.kernel.accessAllowed ? 'block' : 'none';\n",
              "\n",
              "      async function convertToInteractive(key) {\n",
              "        const element = document.querySelector('#df-b8fdecf2-9c2c-499e-9bf0-ff132d216920');\n",
              "        const dataTable =\n",
              "          await google.colab.kernel.invokeFunction('convertToInteractive',\n",
              "                                                    [key], {});\n",
              "        if (!dataTable) return;\n",
              "\n",
              "        const docLinkHtml = 'Like what you see? Visit the ' +\n",
              "          '<a target=\"_blank\" href=https://colab.research.google.com/notebooks/data_table.ipynb>data table notebook</a>'\n",
              "          + ' to learn more about interactive tables.';\n",
              "        element.innerHTML = '';\n",
              "        dataTable['output_type'] = 'display_data';\n",
              "        await google.colab.output.renderOutput(dataTable, element);\n",
              "        const docLink = document.createElement('div');\n",
              "        docLink.innerHTML = docLinkHtml;\n",
              "        element.appendChild(docLink);\n",
              "      }\n",
              "    </script>\n",
              "  </div>\n",
              "\n",
              "\n",
              "<div id=\"df-660f983f-9ebd-48aa-8f6e-0d0a927abdae\">\n",
              "  <button class=\"colab-df-quickchart\" onclick=\"quickchart('df-660f983f-9ebd-48aa-8f6e-0d0a927abdae')\"\n",
              "            title=\"Suggest charts\"\n",
              "            style=\"display:none;\">\n",
              "\n",
              "<svg xmlns=\"http://www.w3.org/2000/svg\" height=\"24px\"viewBox=\"0 0 24 24\"\n",
              "     width=\"24px\">\n",
              "    <g>\n",
              "        <path d=\"M19 3H5c-1.1 0-2 .9-2 2v14c0 1.1.9 2 2 2h14c1.1 0 2-.9 2-2V5c0-1.1-.9-2-2-2zM9 17H7v-7h2v7zm4 0h-2V7h2v10zm4 0h-2v-4h2v4z\"/>\n",
              "    </g>\n",
              "</svg>\n",
              "  </button>\n",
              "\n",
              "<style>\n",
              "  .colab-df-quickchart {\n",
              "      --bg-color: #E8F0FE;\n",
              "      --fill-color: #1967D2;\n",
              "      --hover-bg-color: #E2EBFA;\n",
              "      --hover-fill-color: #174EA6;\n",
              "      --disabled-fill-color: #AAA;\n",
              "      --disabled-bg-color: #DDD;\n",
              "  }\n",
              "\n",
              "  [theme=dark] .colab-df-quickchart {\n",
              "      --bg-color: #3B4455;\n",
              "      --fill-color: #D2E3FC;\n",
              "      --hover-bg-color: #434B5C;\n",
              "      --hover-fill-color: #FFFFFF;\n",
              "      --disabled-bg-color: #3B4455;\n",
              "      --disabled-fill-color: #666;\n",
              "  }\n",
              "\n",
              "  .colab-df-quickchart {\n",
              "    background-color: var(--bg-color);\n",
              "    border: none;\n",
              "    border-radius: 50%;\n",
              "    cursor: pointer;\n",
              "    display: none;\n",
              "    fill: var(--fill-color);\n",
              "    height: 32px;\n",
              "    padding: 0;\n",
              "    width: 32px;\n",
              "  }\n",
              "\n",
              "  .colab-df-quickchart:hover {\n",
              "    background-color: var(--hover-bg-color);\n",
              "    box-shadow: 0 1px 2px rgba(60, 64, 67, 0.3), 0 1px 3px 1px rgba(60, 64, 67, 0.15);\n",
              "    fill: var(--button-hover-fill-color);\n",
              "  }\n",
              "\n",
              "  .colab-df-quickchart-complete:disabled,\n",
              "  .colab-df-quickchart-complete:disabled:hover {\n",
              "    background-color: var(--disabled-bg-color);\n",
              "    fill: var(--disabled-fill-color);\n",
              "    box-shadow: none;\n",
              "  }\n",
              "\n",
              "  .colab-df-spinner {\n",
              "    border: 2px solid var(--fill-color);\n",
              "    border-color: transparent;\n",
              "    border-bottom-color: var(--fill-color);\n",
              "    animation:\n",
              "      spin 1s steps(1) infinite;\n",
              "  }\n",
              "\n",
              "  @keyframes spin {\n",
              "    0% {\n",
              "      border-color: transparent;\n",
              "      border-bottom-color: var(--fill-color);\n",
              "      border-left-color: var(--fill-color);\n",
              "    }\n",
              "    20% {\n",
              "      border-color: transparent;\n",
              "      border-left-color: var(--fill-color);\n",
              "      border-top-color: var(--fill-color);\n",
              "    }\n",
              "    30% {\n",
              "      border-color: transparent;\n",
              "      border-left-color: var(--fill-color);\n",
              "      border-top-color: var(--fill-color);\n",
              "      border-right-color: var(--fill-color);\n",
              "    }\n",
              "    40% {\n",
              "      border-color: transparent;\n",
              "      border-right-color: var(--fill-color);\n",
              "      border-top-color: var(--fill-color);\n",
              "    }\n",
              "    60% {\n",
              "      border-color: transparent;\n",
              "      border-right-color: var(--fill-color);\n",
              "    }\n",
              "    80% {\n",
              "      border-color: transparent;\n",
              "      border-right-color: var(--fill-color);\n",
              "      border-bottom-color: var(--fill-color);\n",
              "    }\n",
              "    90% {\n",
              "      border-color: transparent;\n",
              "      border-bottom-color: var(--fill-color);\n",
              "    }\n",
              "  }\n",
              "</style>\n",
              "\n",
              "  <script>\n",
              "    async function quickchart(key) {\n",
              "      const quickchartButtonEl =\n",
              "        document.querySelector('#' + key + ' button');\n",
              "      quickchartButtonEl.disabled = true;  // To prevent multiple clicks.\n",
              "      quickchartButtonEl.classList.add('colab-df-spinner');\n",
              "      try {\n",
              "        const charts = await google.colab.kernel.invokeFunction(\n",
              "            'suggestCharts', [key], {});\n",
              "      } catch (error) {\n",
              "        console.error('Error during call to suggestCharts:', error);\n",
              "      }\n",
              "      quickchartButtonEl.classList.remove('colab-df-spinner');\n",
              "      quickchartButtonEl.classList.add('colab-df-quickchart-complete');\n",
              "    }\n",
              "    (() => {\n",
              "      let quickchartButtonEl =\n",
              "        document.querySelector('#df-660f983f-9ebd-48aa-8f6e-0d0a927abdae button');\n",
              "      quickchartButtonEl.style.display =\n",
              "        google.colab.kernel.accessAllowed ? 'block' : 'none';\n",
              "    })();\n",
              "  </script>\n",
              "</div>\n",
              "\n",
              "    </div>\n",
              "  </div>\n"
            ],
            "application/vnd.google.colaboratory.intrinsic+json": {
              "type": "dataframe",
              "summary": "{\n  \"name\": \"df[['Age','Fare']]\",\n  \"rows\": 8,\n  \"fields\": [\n    {\n      \"column\": \"Age\",\n      \"properties\": {\n        \"dtype\": \"number\",\n        \"std\": 242.9056731818781,\n        \"min\": 0.42,\n        \"max\": 714.0,\n        \"num_unique_values\": 8,\n        \"samples\": [\n          29.69911764705882,\n          28.0,\n          714.0\n        ],\n        \"semantic_type\": \"\",\n        \"description\": \"\"\n      }\n    },\n    {\n      \"column\": \"Fare\",\n      \"properties\": {\n        \"dtype\": \"number\",\n        \"std\": 330.6256632228577,\n        \"min\": 0.0,\n        \"max\": 891.0,\n        \"num_unique_values\": 8,\n        \"samples\": [\n          32.204207968574636,\n          14.4542,\n          891.0\n        ],\n        \"semantic_type\": \"\",\n        \"description\": \"\"\n      }\n    }\n  ]\n}"
            }
          },
          "metadata": {},
          "execution_count": 12
        }
      ]
    },
    {
      "cell_type": "markdown",
      "source": [
        "**What it does:**\n",
        "\n",
        "df.describe() generates summary statistics for numerical columns.\n",
        "It includes:\n",
        "Count: Number of non-null values.\n",
        "Mean: The average value.\n",
        "Standard deviation (std): A measure of data spread.\n",
        "Min: Minimum value in the column.\n",
        "25% (Q1): First quartile (lower 25% of data).\n",
        "50% (Q2/Median): Middle value.\n",
        "75% (Q3): Third quartile (upper 25% of data).\n",
        "Max: Maximum value.\n",
        "\n",
        "**Why it's useful:**\n",
        "\n",
        "Helps understand distributions and identify outliers.\n",
        "Useful for comparing different features.\n",
        "Example: A high standard deviation in Fare suggests wide variation in ticket prices."
      ],
      "metadata": {
        "id": "xsSWq2OtInH_"
      }
    },
    {
      "cell_type": "markdown",
      "source": [
        "*2. Summary Statistics for Categorical data*"
      ],
      "metadata": {
        "id": "tF6Zafx7JrFY"
      }
    },
    {
      "cell_type": "code",
      "source": [
        "df.describe(include=['object'])"
      ],
      "metadata": {
        "colab": {
          "base_uri": "https://localhost:8080/",
          "height": 175
        },
        "id": "OJ1MvjYUI_IR",
        "outputId": "d679b58e-bd82-45d0-f2f3-72d74415d1cf"
      },
      "execution_count": null,
      "outputs": [
        {
          "output_type": "execute_result",
          "data": {
            "text/plain": [
              "                           Name   Sex  Ticket    Cabin Embarked\n",
              "count                       891   891     891      204      889\n",
              "unique                      891     2     681      147        3\n",
              "top     Braund, Mr. Owen Harris  male  347082  B96 B98        S\n",
              "freq                          1   577       7        4      644"
            ],
            "text/html": [
              "\n",
              "  <div id=\"df-14293772-877c-4c8a-a4e0-02c255066793\" class=\"colab-df-container\">\n",
              "    <div>\n",
              "<style scoped>\n",
              "    .dataframe tbody tr th:only-of-type {\n",
              "        vertical-align: middle;\n",
              "    }\n",
              "\n",
              "    .dataframe tbody tr th {\n",
              "        vertical-align: top;\n",
              "    }\n",
              "\n",
              "    .dataframe thead th {\n",
              "        text-align: right;\n",
              "    }\n",
              "</style>\n",
              "<table border=\"1\" class=\"dataframe\">\n",
              "  <thead>\n",
              "    <tr style=\"text-align: right;\">\n",
              "      <th></th>\n",
              "      <th>Name</th>\n",
              "      <th>Sex</th>\n",
              "      <th>Ticket</th>\n",
              "      <th>Cabin</th>\n",
              "      <th>Embarked</th>\n",
              "    </tr>\n",
              "  </thead>\n",
              "  <tbody>\n",
              "    <tr>\n",
              "      <th>count</th>\n",
              "      <td>891</td>\n",
              "      <td>891</td>\n",
              "      <td>891</td>\n",
              "      <td>204</td>\n",
              "      <td>889</td>\n",
              "    </tr>\n",
              "    <tr>\n",
              "      <th>unique</th>\n",
              "      <td>891</td>\n",
              "      <td>2</td>\n",
              "      <td>681</td>\n",
              "      <td>147</td>\n",
              "      <td>3</td>\n",
              "    </tr>\n",
              "    <tr>\n",
              "      <th>top</th>\n",
              "      <td>Braund, Mr. Owen Harris</td>\n",
              "      <td>male</td>\n",
              "      <td>347082</td>\n",
              "      <td>B96 B98</td>\n",
              "      <td>S</td>\n",
              "    </tr>\n",
              "    <tr>\n",
              "      <th>freq</th>\n",
              "      <td>1</td>\n",
              "      <td>577</td>\n",
              "      <td>7</td>\n",
              "      <td>4</td>\n",
              "      <td>644</td>\n",
              "    </tr>\n",
              "  </tbody>\n",
              "</table>\n",
              "</div>\n",
              "    <div class=\"colab-df-buttons\">\n",
              "\n",
              "  <div class=\"colab-df-container\">\n",
              "    <button class=\"colab-df-convert\" onclick=\"convertToInteractive('df-14293772-877c-4c8a-a4e0-02c255066793')\"\n",
              "            title=\"Convert this dataframe to an interactive table.\"\n",
              "            style=\"display:none;\">\n",
              "\n",
              "  <svg xmlns=\"http://www.w3.org/2000/svg\" height=\"24px\" viewBox=\"0 -960 960 960\">\n",
              "    <path d=\"M120-120v-720h720v720H120Zm60-500h600v-160H180v160Zm220 220h160v-160H400v160Zm0 220h160v-160H400v160ZM180-400h160v-160H180v160Zm440 0h160v-160H620v160ZM180-180h160v-160H180v160Zm440 0h160v-160H620v160Z\"/>\n",
              "  </svg>\n",
              "    </button>\n",
              "\n",
              "  <style>\n",
              "    .colab-df-container {\n",
              "      display:flex;\n",
              "      gap: 12px;\n",
              "    }\n",
              "\n",
              "    .colab-df-convert {\n",
              "      background-color: #E8F0FE;\n",
              "      border: none;\n",
              "      border-radius: 50%;\n",
              "      cursor: pointer;\n",
              "      display: none;\n",
              "      fill: #1967D2;\n",
              "      height: 32px;\n",
              "      padding: 0 0 0 0;\n",
              "      width: 32px;\n",
              "    }\n",
              "\n",
              "    .colab-df-convert:hover {\n",
              "      background-color: #E2EBFA;\n",
              "      box-shadow: 0px 1px 2px rgba(60, 64, 67, 0.3), 0px 1px 3px 1px rgba(60, 64, 67, 0.15);\n",
              "      fill: #174EA6;\n",
              "    }\n",
              "\n",
              "    .colab-df-buttons div {\n",
              "      margin-bottom: 4px;\n",
              "    }\n",
              "\n",
              "    [theme=dark] .colab-df-convert {\n",
              "      background-color: #3B4455;\n",
              "      fill: #D2E3FC;\n",
              "    }\n",
              "\n",
              "    [theme=dark] .colab-df-convert:hover {\n",
              "      background-color: #434B5C;\n",
              "      box-shadow: 0px 1px 3px 1px rgba(0, 0, 0, 0.15);\n",
              "      filter: drop-shadow(0px 1px 2px rgba(0, 0, 0, 0.3));\n",
              "      fill: #FFFFFF;\n",
              "    }\n",
              "  </style>\n",
              "\n",
              "    <script>\n",
              "      const buttonEl =\n",
              "        document.querySelector('#df-14293772-877c-4c8a-a4e0-02c255066793 button.colab-df-convert');\n",
              "      buttonEl.style.display =\n",
              "        google.colab.kernel.accessAllowed ? 'block' : 'none';\n",
              "\n",
              "      async function convertToInteractive(key) {\n",
              "        const element = document.querySelector('#df-14293772-877c-4c8a-a4e0-02c255066793');\n",
              "        const dataTable =\n",
              "          await google.colab.kernel.invokeFunction('convertToInteractive',\n",
              "                                                    [key], {});\n",
              "        if (!dataTable) return;\n",
              "\n",
              "        const docLinkHtml = 'Like what you see? Visit the ' +\n",
              "          '<a target=\"_blank\" href=https://colab.research.google.com/notebooks/data_table.ipynb>data table notebook</a>'\n",
              "          + ' to learn more about interactive tables.';\n",
              "        element.innerHTML = '';\n",
              "        dataTable['output_type'] = 'display_data';\n",
              "        await google.colab.output.renderOutput(dataTable, element);\n",
              "        const docLink = document.createElement('div');\n",
              "        docLink.innerHTML = docLinkHtml;\n",
              "        element.appendChild(docLink);\n",
              "      }\n",
              "    </script>\n",
              "  </div>\n",
              "\n",
              "\n",
              "<div id=\"df-ace2c2d6-e047-44a0-ba07-502f1dd276e0\">\n",
              "  <button class=\"colab-df-quickchart\" onclick=\"quickchart('df-ace2c2d6-e047-44a0-ba07-502f1dd276e0')\"\n",
              "            title=\"Suggest charts\"\n",
              "            style=\"display:none;\">\n",
              "\n",
              "<svg xmlns=\"http://www.w3.org/2000/svg\" height=\"24px\"viewBox=\"0 0 24 24\"\n",
              "     width=\"24px\">\n",
              "    <g>\n",
              "        <path d=\"M19 3H5c-1.1 0-2 .9-2 2v14c0 1.1.9 2 2 2h14c1.1 0 2-.9 2-2V5c0-1.1-.9-2-2-2zM9 17H7v-7h2v7zm4 0h-2V7h2v10zm4 0h-2v-4h2v4z\"/>\n",
              "    </g>\n",
              "</svg>\n",
              "  </button>\n",
              "\n",
              "<style>\n",
              "  .colab-df-quickchart {\n",
              "      --bg-color: #E8F0FE;\n",
              "      --fill-color: #1967D2;\n",
              "      --hover-bg-color: #E2EBFA;\n",
              "      --hover-fill-color: #174EA6;\n",
              "      --disabled-fill-color: #AAA;\n",
              "      --disabled-bg-color: #DDD;\n",
              "  }\n",
              "\n",
              "  [theme=dark] .colab-df-quickchart {\n",
              "      --bg-color: #3B4455;\n",
              "      --fill-color: #D2E3FC;\n",
              "      --hover-bg-color: #434B5C;\n",
              "      --hover-fill-color: #FFFFFF;\n",
              "      --disabled-bg-color: #3B4455;\n",
              "      --disabled-fill-color: #666;\n",
              "  }\n",
              "\n",
              "  .colab-df-quickchart {\n",
              "    background-color: var(--bg-color);\n",
              "    border: none;\n",
              "    border-radius: 50%;\n",
              "    cursor: pointer;\n",
              "    display: none;\n",
              "    fill: var(--fill-color);\n",
              "    height: 32px;\n",
              "    padding: 0;\n",
              "    width: 32px;\n",
              "  }\n",
              "\n",
              "  .colab-df-quickchart:hover {\n",
              "    background-color: var(--hover-bg-color);\n",
              "    box-shadow: 0 1px 2px rgba(60, 64, 67, 0.3), 0 1px 3px 1px rgba(60, 64, 67, 0.15);\n",
              "    fill: var(--button-hover-fill-color);\n",
              "  }\n",
              "\n",
              "  .colab-df-quickchart-complete:disabled,\n",
              "  .colab-df-quickchart-complete:disabled:hover {\n",
              "    background-color: var(--disabled-bg-color);\n",
              "    fill: var(--disabled-fill-color);\n",
              "    box-shadow: none;\n",
              "  }\n",
              "\n",
              "  .colab-df-spinner {\n",
              "    border: 2px solid var(--fill-color);\n",
              "    border-color: transparent;\n",
              "    border-bottom-color: var(--fill-color);\n",
              "    animation:\n",
              "      spin 1s steps(1) infinite;\n",
              "  }\n",
              "\n",
              "  @keyframes spin {\n",
              "    0% {\n",
              "      border-color: transparent;\n",
              "      border-bottom-color: var(--fill-color);\n",
              "      border-left-color: var(--fill-color);\n",
              "    }\n",
              "    20% {\n",
              "      border-color: transparent;\n",
              "      border-left-color: var(--fill-color);\n",
              "      border-top-color: var(--fill-color);\n",
              "    }\n",
              "    30% {\n",
              "      border-color: transparent;\n",
              "      border-left-color: var(--fill-color);\n",
              "      border-top-color: var(--fill-color);\n",
              "      border-right-color: var(--fill-color);\n",
              "    }\n",
              "    40% {\n",
              "      border-color: transparent;\n",
              "      border-right-color: var(--fill-color);\n",
              "      border-top-color: var(--fill-color);\n",
              "    }\n",
              "    60% {\n",
              "      border-color: transparent;\n",
              "      border-right-color: var(--fill-color);\n",
              "    }\n",
              "    80% {\n",
              "      border-color: transparent;\n",
              "      border-right-color: var(--fill-color);\n",
              "      border-bottom-color: var(--fill-color);\n",
              "    }\n",
              "    90% {\n",
              "      border-color: transparent;\n",
              "      border-bottom-color: var(--fill-color);\n",
              "    }\n",
              "  }\n",
              "</style>\n",
              "\n",
              "  <script>\n",
              "    async function quickchart(key) {\n",
              "      const quickchartButtonEl =\n",
              "        document.querySelector('#' + key + ' button');\n",
              "      quickchartButtonEl.disabled = true;  // To prevent multiple clicks.\n",
              "      quickchartButtonEl.classList.add('colab-df-spinner');\n",
              "      try {\n",
              "        const charts = await google.colab.kernel.invokeFunction(\n",
              "            'suggestCharts', [key], {});\n",
              "      } catch (error) {\n",
              "        console.error('Error during call to suggestCharts:', error);\n",
              "      }\n",
              "      quickchartButtonEl.classList.remove('colab-df-spinner');\n",
              "      quickchartButtonEl.classList.add('colab-df-quickchart-complete');\n",
              "    }\n",
              "    (() => {\n",
              "      let quickchartButtonEl =\n",
              "        document.querySelector('#df-ace2c2d6-e047-44a0-ba07-502f1dd276e0 button');\n",
              "      quickchartButtonEl.style.display =\n",
              "        google.colab.kernel.accessAllowed ? 'block' : 'none';\n",
              "    })();\n",
              "  </script>\n",
              "</div>\n",
              "\n",
              "    </div>\n",
              "  </div>\n"
            ],
            "application/vnd.google.colaboratory.intrinsic+json": {
              "type": "dataframe",
              "summary": "{\n  \"name\": \"df\",\n  \"rows\": 4,\n  \"fields\": [\n    {\n      \"column\": \"Name\",\n      \"properties\": {\n        \"dtype\": \"string\",\n        \"num_unique_values\": 3,\n        \"samples\": [\n          \"891\",\n          \"Braund, Mr. Owen Harris\",\n          \"1\"\n        ],\n        \"semantic_type\": \"\",\n        \"description\": \"\"\n      }\n    },\n    {\n      \"column\": \"Sex\",\n      \"properties\": {\n        \"dtype\": \"string\",\n        \"num_unique_values\": 4,\n        \"samples\": [\n          2,\n          \"577\",\n          \"891\"\n        ],\n        \"semantic_type\": \"\",\n        \"description\": \"\"\n      }\n    },\n    {\n      \"column\": \"Ticket\",\n      \"properties\": {\n        \"dtype\": \"string\",\n        \"num_unique_values\": 4,\n        \"samples\": [\n          681,\n          \"7\",\n          \"891\"\n        ],\n        \"semantic_type\": \"\",\n        \"description\": \"\"\n      }\n    },\n    {\n      \"column\": \"Cabin\",\n      \"properties\": {\n        \"dtype\": \"string\",\n        \"num_unique_values\": 4,\n        \"samples\": [\n          147,\n          \"4\",\n          \"204\"\n        ],\n        \"semantic_type\": \"\",\n        \"description\": \"\"\n      }\n    },\n    {\n      \"column\": \"Embarked\",\n      \"properties\": {\n        \"dtype\": \"string\",\n        \"num_unique_values\": 4,\n        \"samples\": [\n          3,\n          \"644\",\n          \"889\"\n        ],\n        \"semantic_type\": \"\",\n        \"description\": \"\"\n      }\n    }\n  ]\n}"
            }
          },
          "metadata": {},
          "execution_count": 13
        }
      ]
    },
    {
      "cell_type": "markdown",
      "source": [
        "**What it does:**\n",
        "\n",
        "describe(include=['O']) generates summary statistics for categorical (object-type) columns.\n",
        "It includes:\n",
        "Count: Number of non-null values.\n",
        "Unique: Number of distinct categories.\n",
        "Top: Most frequent category.\n",
        "Freq: Frequency of the most common category.\n",
        "\n",
        "**Why it's useful:**\n",
        "\n",
        "Identifies dominant categories.\n",
        "Example: If \"Sex\" has \"male\" as the top category with a frequency of 577, we learn that most passengers were male."
      ],
      "metadata": {
        "id": "mpi8otTvJ2z9"
      }
    },
    {
      "cell_type": "markdown",
      "source": [
        "*3.Check Skewness of the Numerical Features*"
      ],
      "metadata": {
        "id": "1AAMy-YPKMmU"
      }
    },
    {
      "cell_type": "code",
      "source": [
        "numerical_features = df.select_dtypes(include=np.number)\n",
        "print(\"Skewness:\", numerical_features.skew())"
      ],
      "metadata": {
        "colab": {
          "base_uri": "https://localhost:8080/"
        },
        "id": "CbwCQE3GKT_T",
        "outputId": "6972e7e6-bc5d-43a3-9088-7d79499be36a"
      },
      "execution_count": null,
      "outputs": [
        {
          "output_type": "stream",
          "name": "stdout",
          "text": [
            "Skewness: PassengerId    0.000000\n",
            "Survived       0.478523\n",
            "Pclass        -0.630548\n",
            "Age            0.389108\n",
            "SibSp          3.695352\n",
            "Parch          2.749117\n",
            "Fare           4.787317\n",
            "dtype: float64\n"
          ]
        }
      ]
    },
    {
      "cell_type": "markdown",
      "source": [
        "**What it does:**\n",
        "\n",
        "df.skew() calculates skewness for numerical columns.\n",
        "Skewness measures how asymmetrical the data distribution is:\n",
        "0 = perfectly symmetrical (normal distribution).\n",
        "Positive (>0) = right-skewed (long tail on the right).\n",
        "Negative (<0) = left-skewed (long tail on the left).\n",
        "\n",
        "**Why it's useful:**\n",
        "\n",
        "Identifies need for transformations (e.g., log transformation if data is highly skewed).\n",
        "Example: Fare is often right-skewed, meaning a few passengers paid much higher fares than others."
      ],
      "metadata": {
        "id": "vsMhPWXlK-ak"
      }
    },
    {
      "cell_type": "markdown",
      "source": [
        "*4.Check mode for categorical Features*"
      ],
      "metadata": {
        "id": "T7i05jZyL8OG"
      }
    },
    {
      "cell_type": "code",
      "source": [
        "print(\"Mode of the categorical columns:\",df.mode().iloc[0])"
      ],
      "metadata": {
        "colab": {
          "base_uri": "https://localhost:8080/"
        },
        "id": "6woxz_YdMCJa",
        "outputId": "69c60952-22e7-4ade-805e-ff56af53ea09"
      },
      "execution_count": null,
      "outputs": [
        {
          "output_type": "stream",
          "name": "stdout",
          "text": [
            "Mode of the categorical columns: PassengerId                      1\n",
            "Survived                       0.0\n",
            "Pclass                         3.0\n",
            "Name           Abbing, Mr. Anthony\n",
            "Sex                           male\n",
            "Age                           24.0\n",
            "SibSp                          0.0\n",
            "Parch                          0.0\n",
            "Ticket                        1601\n",
            "Fare                          8.05\n",
            "Cabin                      B96 B98\n",
            "Embarked                         S\n",
            "Name: 0, dtype: object\n"
          ]
        }
      ]
    },
    {
      "cell_type": "markdown",
      "source": [
        "**What it does:**\n",
        "\n",
        "df.mode() finds the most common (mode) value for each column.\n",
        ".iloc[0] selects the first row of the mode (since there can be multiple modes).\n",
        "\n",
        "**Why it's useful:**\n",
        "\n",
        "Identifies the most frequent category in categorical variables.\n",
        "Example: If the mode of \"Embarked\" is \"S\", it means most passengers boarded at \"Southampton\"."
      ],
      "metadata": {
        "id": "mSOUtMLaMVbV"
      }
    },
    {
      "cell_type": "markdown",
      "source": [
        "*5.Count Unique Values in Categorical Columns*"
      ],
      "metadata": {
        "id": "J4IYbNgWMZOx"
      }
    },
    {
      "cell_type": "code",
      "source": [
        "print(df['Sex'].value_counts())\n",
        "print(df['Embarked'].value_counts())"
      ],
      "metadata": {
        "colab": {
          "base_uri": "https://localhost:8080/"
        },
        "id": "MmMx-9NKMoM6",
        "outputId": "f82d79ac-c287-4e0c-c2d0-5b34fef9d20b"
      },
      "execution_count": null,
      "outputs": [
        {
          "output_type": "stream",
          "name": "stdout",
          "text": [
            "Sex\n",
            "male      577\n",
            "female    314\n",
            "Name: count, dtype: int64\n",
            "Embarked\n",
            "S    644\n",
            "C    168\n",
            "Q     77\n",
            "Name: count, dtype: int64\n"
          ]
        }
      ]
    },
    {
      "cell_type": "markdown",
      "source": [
        "**What it does:**\n",
        "\n",
        "df[\"Sex\"].value_counts() counts the number of times each category appears in the \"Sex\" column.\n",
        "df[\"Embarked\"].value_counts() does the same for \"Embarked\".\n",
        "\n",
        "**Why it's useful:**\n",
        "\n",
        "Helps understand categorical distributions.\n",
        "Example: If \"Sex\" shows 577 males and 314 females, it confirms more men were on board."
      ],
      "metadata": {
        "id": "PEWpqRGYNDd4"
      }
    },
    {
      "cell_type": "markdown",
      "source": [
        "*6.Visualizing distributions*"
      ],
      "metadata": {
        "id": "Oy9m9gTRNMPt"
      }
    },
    {
      "cell_type": "code",
      "source": [
        "df['Age'] = df['Age'].fillna(df['Age'].mode())\n",
        "sns.histplot(df['Age'], bins=30,kde = True)\n",
        "plt.title(\"Age Distribution\")\n",
        "plt.show()"
      ],
      "metadata": {
        "colab": {
          "base_uri": "https://localhost:8080/",
          "height": 472
        },
        "id": "XkQforzKNS2e",
        "outputId": "f91a5f3d-594d-4572-8f46-d8718a9a5b96"
      },
      "execution_count": null,
      "outputs": [
        {
          "output_type": "display_data",
          "data": {
            "text/plain": [
              "<Figure size 640x480 with 1 Axes>"
            ],
            "image/png": "[encoded data removed]"
          },
          "metadata": {}
        }
      ]
    },
    {
      "cell_type": "markdown",
      "source": [
        "**What it does:**\n",
        "\n",
        "sns.histplot(df['Age'].dropna(), bins=30, kde=True):\n",
        "Creates a histogram with 30 bins.\n",
        "kde=True adds a smooth curve to show distribution.\n",
        "\n",
        "**Why it's useful:**\n",
        "\n",
        "Reveals the age distribution of passengers.\n",
        "Helps detect age groups with more passengers.\n",
        "Example: A peak around 20-30 years suggests many passengers were young adults."
      ],
      "metadata": {
        "id": "qYWdoTayOEpb"
      }
    },
    {
      "cell_type": "code",
      "source": [
        "sns.boxplot(x=\"Pclass\", y=\"Fare\", data=df)\n",
        "plt.title(\"Fare by Passenger Class\")\n",
        "plt.show()"
      ],
      "metadata": {
        "colab": {
          "base_uri": "https://localhost:8080/",
          "height": 472
        },
        "id": "27r36by7OLc8",
        "outputId": "c86244cd-dc98-4830-90c9-9f9b2b5294d3"
      },
      "execution_count": null,
      "outputs": [
        {
          "output_type": "display_data",
          "data": {
            "text/plain": [
              "<Figure size 640x480 with 1 Axes>"
            ],
            "image/png": "[encoded data removed]"
          },
          "metadata": {}
        }
      ]
    },
    {
      "cell_type": "markdown",
      "source": [
        "**What it does:**\n",
        "\n",
        "sns.boxplot(x='Pclass', y='Fare', data=df):\n",
        "Creates a boxplot to show how Fare varies across Pclass (Passenger Class: 1st, 2nd, 3rd).\n",
        "Boxplot explanation:\n",
        "The box represents Q1 to Q3 (middle 50% of data).\n",
        "The line inside the box is the median.\n",
        "The \"whiskers\" extend to the minimum and maximum values (excluding outliers).\n",
        "Points outside the whiskers are outliers (extremely high or low fares).\n",
        "\n",
        "**Why it's useful:**\n",
        "\n",
        "Shows how much passengers paid in each class.\n",
        "Example: Pclass = 1 passengers paid much higher fares than Pclass = 3."
      ],
      "metadata": {
        "id": "fJgpiUCfOdIL"
      }
    },
    {
      "cell_type": "markdown",
      "source": [
        "**TASK 2 : CORRELATION AND COVARIANCE**"
      ],
      "metadata": {
        "id": "MDtwvXshOndr"
      }
    },
    {
      "cell_type": "markdown",
      "source": [
        "Correlation and covariance helps analyse relationships between the numerical features"
      ],
      "metadata": {
        "id": "mPFROJRQPf5G"
      }
    },
    {
      "cell_type": "code",
      "source": [
        "correlation_matrix = df.select_dtypes(include=np.number).corr()\n",
        "print(correlation_matrix)"
      ],
      "metadata": {
        "colab": {
          "base_uri": "https://localhost:8080/"
        },
        "id": "hq2Nd6MvPp-N",
        "outputId": "5aef9afb-754c-41ef-9586-f12be775ea31"
      },
      "execution_count": null,
      "outputs": [
        {
          "output_type": "stream",
          "name": "stdout",
          "text": [
            "             PassengerId  Survived    Pclass       Age     SibSp     Parch  \\\n",
            "PassengerId     1.000000 -0.005007 -0.035144  0.036847 -0.057527 -0.001652   \n",
            "Survived       -0.005007  1.000000 -0.338481 -0.077221 -0.035322  0.081629   \n",
            "Pclass         -0.035144 -0.338481  1.000000 -0.369226  0.083081  0.018443   \n",
            "Age             0.036847 -0.077221 -0.369226  1.000000 -0.308247 -0.189119   \n",
            "SibSp          -0.057527 -0.035322  0.083081 -0.308247  1.000000  0.414838   \n",
            "Parch          -0.001652  0.081629  0.018443 -0.189119  0.414838  1.000000   \n",
            "Fare            0.012658  0.257307 -0.549500  0.096067  0.159651  0.216225   \n",
            "\n",
            "                 Fare  \n",
            "PassengerId  0.012658  \n",
            "Survived     0.257307  \n",
            "Pclass      -0.549500  \n",
            "Age          0.096067  \n",
            "SibSp        0.159651  \n",
            "Parch        0.216225  \n",
            "Fare         1.000000  \n"
          ]
        }
      ]
    },
    {
      "cell_type": "markdown",
      "source": [
        "**What it does:**\n",
        "\n",
        "df.corr() computes the correlation coefficient between numerical features.\n",
        "Correlation measures the relationship between two variables:\n",
        "+1 → Perfect positive correlation (both variables increase together).\n",
        "-1 → Perfect negative correlation (one increases, the other decreases).\n",
        "0 → No correlation.\n",
        "\n",
        "**Why it's useful:**\n",
        "\n",
        "Helps identify relationships between features.\n",
        "Example: If Survived is negatively correlated with Pclass, it means higher-class passengers had a higher survival rate."
      ],
      "metadata": {
        "id": "_6c4LT-KRtZ4"
      }
    },
    {
      "cell_type": "code",
      "source": [
        "sns.heatmap(correlation_matrix, annot=True, cmap='coolwarm',fmt=\".2f\")\n",
        "plt.title(\"Feature Correlation Heatmap\")\n",
        "plt.show()"
      ],
      "metadata": {
        "colab": {
          "base_uri": "https://localhost:8080/",
          "height": 522
        },
        "id": "rPHmZxR0R3pw",
        "outputId": "7e037fbc-1e9b-4dca-96f0-3ff6593d2fec"
      },
      "execution_count": null,
      "outputs": [
        {
          "output_type": "display_data",
          "data": {
            "text/plain": [
              "<Figure size 640x480 with 2 Axes>"
            ],
            "image/png": "[encoded data removed]"
          },
          "metadata": {}
        }
      ]
    },
    {
      "cell_type": "markdown",
      "source": [
        "**What it does:**\n",
        "\n",
        "sns.heatmap() creates a heatmap to visualize correlations.\n",
        "Parameters:\n",
        "annot=True → Displays correlation values inside each cell.\n",
        "cmap='coolwarm' → Uses a blue-red color scheme (blue for negative, red for positive correlation).\n",
        "fmt=\".2f\" → Formats values to two decimal places.\n",
        "\n",
        "**Why it's useful:**\n",
        "\n",
        "Makes it easy to see strong correlations.\n",
        "Example:\n",
        "Fare and Pclass → Negatively correlated (higher-class passengers paid more).\n",
        "SibSp (siblings/spouses aboard) and Parch (parents/children aboard) → Positively correlated (families traveled together)"
      ],
      "metadata": {
        "id": "fwZBqp_ESeWg"
      }
    },
    {
      "cell_type": "code",
      "source": [
        "print(df.select_dtypes(include=np.number).cov())"
      ],
      "metadata": {
        "colab": {
          "base_uri": "https://localhost:8080/"
        },
        "id": "B2HMicJ-Syt7",
        "outputId": "dfd76831-3dbb-4498-cc64-0839bee36ac0"
      },
      "execution_count": null,
      "outputs": [
        {
          "output_type": "stream",
          "name": "stdout",
          "text": [
            "              PassengerId  Survived     Pclass         Age      SibSp  \\\n",
            "PassengerId  66231.000000 -0.626966  -7.561798  138.696504 -16.325843   \n",
            "Survived        -0.626966  0.236772  -0.137703   -0.551296  -0.018954   \n",
            "Pclass          -7.561798 -0.137703   0.699015   -4.496004   0.076599   \n",
            "Age            138.696504 -0.551296  -4.496004  211.019125  -4.163334   \n",
            "SibSp          -16.325843 -0.018954   0.076599   -4.163334   1.216043   \n",
            "Parch           -0.342697  0.032017   0.012429   -2.344191   0.368739   \n",
            "Fare           161.883369  6.221787 -22.830196   73.849030   8.748734   \n",
            "\n",
            "                Parch         Fare  \n",
            "PassengerId -0.342697   161.883369  \n",
            "Survived     0.032017     6.221787  \n",
            "Pclass       0.012429   -22.830196  \n",
            "Age         -2.344191    73.849030  \n",
            "SibSp        0.368739     8.748734  \n",
            "Parch        0.649728     8.661052  \n",
            "Fare         8.661052  2469.436846  \n"
          ]
        }
      ]
    },
    {
      "cell_type": "markdown",
      "source": [
        "**What it does:**\n",
        "\n",
        "df.cov() computes the covariance between numerical columns.\n",
        "Covariance tells us:\n",
        "If two features increase or decrease together → Positive covariance.\n",
        "If one feature increases while the other decreases → Negative covariance.\n",
        "\n",
        "**Why it's useful:**\n",
        "\n",
        "Unlike correlation, covariance values depend on scale, so it's not as standardized.\n",
        "Example:\n",
        "High positive covariance between SibSp and Parch confirms that families traveled together.\n",
        "A negative covariance between Pclass and Fare shows that higher-class passengers paid higher fares"
      ],
      "metadata": {
        "id": "OJHESMJkTC0G"
      }
    },
    {
      "cell_type": "code",
      "source": [
        "sns.barplot(x='Pclass',y='Survived',data=df)\n",
        "plt.title(\"Survival Rate by gender\")\n",
        "plt.show()"
      ],
      "metadata": {
        "colab": {
          "base_uri": "https://localhost:8080/",
          "height": 472
        },
        "id": "8mtnkdFqTSjd",
        "outputId": "a7f08eb6-1e1a-4c03-ed68-163e7b938ca8"
      },
      "execution_count": null,
      "outputs": [
        {
          "output_type": "display_data",
          "data": {
            "text/plain": [
              "<Figure size 640x480 with 1 Axes>"
            ],
            "image/png": "[encoded data removed]"
          },
          "metadata": {}
        }
      ]
    },
    {
      "cell_type": "markdown",
      "source": [
        "**What it does:**\n",
        "\n",
        "sns.barplot(x=\"Pclass\", y=\"Survived\", data=df):\n",
        "Groups survival rates by passenger class (Pclass).\n",
        "Each bar height represents the mean survival rate.\n",
        "\n",
        "**Why it's useful:**\n",
        "\n",
        "Shows which class had higher survival rates.\n",
        "Example: Pclass = 1 passengers had the highest survival rate, while Pclass = 3 had the lowest."
      ],
      "metadata": {
        "id": "7KiAxaxhTj9M"
      }
    },
    {
      "cell_type": "code",
      "source": [
        "sns.barplot(x='Sex',y='Survived',data=df)\n",
        "plt.title(\"Survival Rate by gender\")\n",
        "plt.show()"
      ],
      "metadata": {
        "colab": {
          "base_uri": "https://localhost:8080/",
          "height": 472
        },
        "id": "FF_vQwutT_71",
        "outputId": "c93edd49-b24c-4098-b5b1-50a5ec108ce3"
      },
      "execution_count": null,
      "outputs": [
        {
          "output_type": "display_data",
          "data": {
            "text/plain": [
              "<Figure size 640x480 with 1 Axes>"
            ],
            "image/png": "[encoded data removed]"
          },
          "metadata": {}
        }
      ]
    },
    {
      "cell_type": "markdown",
      "source": [
        "**What it does:**\n",
        "\n",
        "sns.barplot(x=\"Sex\", y=\"Survived\", data=df):\n",
        "Groups survival rates by gender.\n",
        "Displays the mean survival rate for males and females.\n",
        "\n",
        "**Why it's useful:**\n",
        "\n",
        "Highlights gender-based survival trends.\n",
        "Example: Women had a much higher survival rate than men, confirming the “Women and children first” policy"
      ],
      "metadata": {
        "id": "Uv5Aktu7Tq02"
      }
    },
    {
      "cell_type": "markdown",
      "source": [
        "**TASK 3 : QUANTILES AND RANGES**"
      ],
      "metadata": {
        "id": "6f2Blu0xURg7"
      }
    },
    {
      "cell_type": "markdown",
      "source": [
        "This hepls us to find the outliers and understand their value distribution"
      ],
      "metadata": {
        "id": "TnJM6livUe0z"
      }
    },
    {
      "cell_type": "code",
      "source": [
        "Q1 = df.select_dtypes(include = np.number).quantile(0.25)\n",
        "Q2 = df.select_dtypes(include = np.number).quantile(0.50)\n",
        "Q3 = df.select_dtypes(include = np.number).quantile(0.75)\n",
        "\n",
        "print(\"First quartile:\",Q1)\n",
        "print(\"Median:\",Q2)\n",
        "print(\"Third quartile:\",Q3)"
      ],
      "metadata": {
        "colab": {
          "base_uri": "https://localhost:8080/"
        },
        "id": "RYJ_z56oVso8",
        "outputId": "38e5354c-eb7c-4d3a-9b28-9db7f451cfcd"
      },
      "execution_count": null,
      "outputs": [
        {
          "output_type": "stream",
          "name": "stdout",
          "text": [
            "First quartile: PassengerId    223.5000\n",
            "Survived         0.0000\n",
            "Pclass           2.0000\n",
            "Age             20.1250\n",
            "SibSp            0.0000\n",
            "Parch            0.0000\n",
            "Fare             7.9104\n",
            "Name: 0.25, dtype: float64\n",
            "Median: PassengerId    446.0000\n",
            "Survived         0.0000\n",
            "Pclass           3.0000\n",
            "Age             28.0000\n",
            "SibSp            0.0000\n",
            "Parch            0.0000\n",
            "Fare            14.4542\n",
            "Name: 0.5, dtype: float64\n",
            "Third quartile: PassengerId    668.5\n",
            "Survived         1.0\n",
            "Pclass           3.0\n",
            "Age             38.0\n",
            "SibSp            1.0\n",
            "Parch            0.0\n",
            "Fare            31.0\n",
            "Name: 0.75, dtype: float64\n"
          ]
        }
      ]
    },
    {
      "cell_type": "markdown",
      "source": [
        "**What it does:**\n",
        "\n",
        "df.quantile(0.25): Computes Q1 (25th percentile) → Lower Quartile\n",
        "df.quantile(0.50): Computes Q2 (50th percentile / Median) → Middle value\n",
        "df.quantile(0.75): Computes Q3 (75th percentile) → Upper Quartile\n",
        "\n",
        "**Why it's useful:**\n",
        "\n",
        "Quartiles help understand data distribution.\n",
        "Q1 & Q3 help define the Interquartile Range (IQR), used to detect outliers.\n",
        "Example: If Fare has:\n",
        "Q1 = $8.05$\n",
        "Q2 (median) = $14.45$\n",
        "Q3 = $31.00$,\n",
        "then most passengers paid fares between $8.05$ and $31.00$"
      ],
      "metadata": {
        "id": "jQOkORRnWeEP"
      }
    },
    {
      "cell_type": "code",
      "source": [
        "IQR = Q3 - Q1\n",
        "print(\"Interquartile Range:\",IQR)"
      ],
      "metadata": {
        "colab": {
          "base_uri": "https://localhost:8080/"
        },
        "id": "unLtdqA-cm--",
        "outputId": "ee19d9b6-2bf9-4085-f27b-379dea71cedc"
      },
      "execution_count": null,
      "outputs": [
        {
          "output_type": "stream",
          "name": "stdout",
          "text": [
            "Interquartile Range: PassengerId    445.0000\n",
            "Survived         1.0000\n",
            "Pclass           1.0000\n",
            "Age             17.8750\n",
            "SibSp            1.0000\n",
            "Parch            0.0000\n",
            "Fare            23.0896\n",
            "dtype: float64\n"
          ]
        }
      ]
    },
    {
      "cell_type": "markdown",
      "source": [
        "**What it does:**\n",
        "\n",
        "IQR = Q3 - Q1: Computes the Interquartile Range (range of the middle 50% of the data).\n",
        "\n",
        "**Why it's useful:**\n",
        "\n",
        "IQR helps detect outliers.\n",
        "Smaller IQR → Data is tightly packed.\n",
        "Larger IQR → Data is spread out.\n",
        "Example: If Fare has IQR = $22.95$, we know 50% of passengers paid within a $22.95$ range.\n"
      ],
      "metadata": {
        "id": "VJdeKNG-cxVW"
      }
    },
    {
      "cell_type": "code",
      "source": [
        "outliers = df.select_dtypes(include =np.number)[(df.select_dtypes(include =np.number) > Q3 + 1.5 * IQR) | (df.select_dtypes(include =np.number) < Q1 - 1.5 * IQR)]\n",
        "print(\"Outliers detected:\", outliers.dropna(how='all') )"
      ],
      "metadata": {
        "colab": {
          "base_uri": "https://localhost:8080/"
        },
        "id": "JM6LPPFac9PV",
        "outputId": "503d7a23-4405-4d4e-f5a5-dc569aacaa30"
      },
      "execution_count": null,
      "outputs": [
        {
          "output_type": "stream",
          "name": "stdout",
          "text": [
            "Outliers detected:      PassengerId  Survived  Pclass  Age  SibSp  Parch     Fare\n",
            "1            NaN       NaN     NaN  NaN    NaN    NaN  71.2833\n",
            "7            NaN       NaN     NaN  NaN    3.0    1.0      NaN\n",
            "8            NaN       NaN     NaN  NaN    NaN    2.0      NaN\n",
            "10           NaN       NaN     NaN  NaN    NaN    1.0      NaN\n",
            "13           NaN       NaN     NaN  NaN    NaN    5.0      NaN\n",
            "..           ...       ...     ...  ...    ...    ...      ...\n",
            "871          NaN       NaN     NaN  NaN    NaN    1.0      NaN\n",
            "879          NaN       NaN     NaN  NaN    NaN    1.0  83.1583\n",
            "880          NaN       NaN     NaN  NaN    NaN    1.0      NaN\n",
            "885          NaN       NaN     NaN  NaN    NaN    5.0      NaN\n",
            "888          NaN       NaN     NaN  NaN    NaN    2.0      NaN\n",
            "\n",
            "[293 rows x 7 columns]\n"
          ]
        }
      ]
    },
    {
      "cell_type": "markdown",
      "source": [
        "**What it does:**\n",
        "\n",
        "Detects outliers using the 1.5 * IQR rule:\n",
        "Lower Bound: Q1 - 1.5 * IQR\n",
        "Upper Bound: Q3 + 1.5 * IQR\n",
        "Identifies values beyond these bounds as outliers.\n",
        "dropna(how='all'): Removes rows where all values are NaN (no outliers in those columns).\n",
        "\n",
        "**Why it's useful:**\n",
        "\n",
        "Identifies extreme values that might be errors or rare cases.\n",
        "Example:\n",
        "In Fare, very high values ($>512$) are outliers (wealthy passengers).\n",
        "In Age, extreme old ages might be outliers (e.g., if someone is 200 years old, it’s likely an error)"
      ],
      "metadata": {
        "id": "t8Ej8zwAeG2R"
      }
    },
    {
      "cell_type": "code",
      "source": [
        "sns.boxplot(x=df['Age'])\n",
        "plt.title(\"Boxplot of Age\")\n",
        "plt.show()"
      ],
      "metadata": {
        "colab": {
          "base_uri": "https://localhost:8080/",
          "height": 472
        },
        "id": "dOjDRkSKfH0X",
        "outputId": "bed1d454-faeb-413e-c691-58f4768726ff"
      },
      "execution_count": null,
      "outputs": [
        {
          "output_type": "display_data",
          "data": {
            "text/plain": [
              "<Figure size 640x480 with 1 Axes>"
            ],
            "image/png": "[encoded data removed]"
          },
          "metadata": {}
        }
      ]
    },
    {
      "cell_type": "markdown",
      "source": [
        "**What it does:**\n",
        "\n",
        "sns.boxplot(x=df['Age']): Boxplot for Age.\n",
        "Boxplot elements:\n",
        "Box → Middle 50% of data (IQR: Q1 to Q3).\n",
        "Line inside the box → Median (Q2).\n",
        "Whiskers → Extend to min & max values within 1.5 * IQR.\n",
        "Dots outside whiskers → Outliers.\n",
        "\n",
        "**Why it's useful:**\n",
        "\n",
        "Shows data spread and outliers.\n",
        "Example:\n",
        "If there are dots far from the whiskers, these represent outliers (very old passengers"
      ],
      "metadata": {
        "id": "wkXN7XWHfhEi"
      }
    },
    {
      "cell_type": "code",
      "source": [
        "sns.boxplot(x=df['Fare'])\n",
        "plt.title(\"Boxplot of Fare\")\n",
        "plt.show()"
      ],
      "metadata": {
        "colab": {
          "base_uri": "https://localhost:8080/",
          "height": 472
        },
        "id": "XH20OVlbfmoK",
        "outputId": "80bc04d7-335d-4812-860a-340e255e5375"
      },
      "execution_count": null,
      "outputs": [
        {
          "output_type": "display_data",
          "data": {
            "text/plain": [
              "<Figure size 640x480 with 1 Axes>"
            ],
            "image/png": "[encoded data removed]"
          },
          "metadata": {}
        }
      ]
    },
    {
      "cell_type": "markdown",
      "source": [
        "**What it does:**\n",
        "\n",
        "sns.boxplot(x=df['Fare']): Boxplot for Ticket Fare.\n",
        "\n",
        "**Why it's useful:**\n",
        "\n",
        "Identifies outliers in ticket prices.\n",
        "Example:\n",
        "Most fares cluster below $100$, but outliers exist above $500$ (rich passengers in 1st class)."
      ],
      "metadata": {
        "id": "CEW_FqTbf0z1"
      }
    },
    {
      "cell_type": "markdown",
      "source": [
        "**TASK 4 : GROUP WISE OPERATIONS**"
      ],
      "metadata": {
        "id": "DaG3XgQWgLJ5"
      }
    },
    {
      "cell_type": "markdown",
      "source": [
        "Helps to analyse the trends based on the categories"
      ],
      "metadata": {
        "id": "Wa-EDsQxgSmy"
      }
    },
    {
      "cell_type": "code",
      "source": [
        "print(df.groupby('Sex')['Survived'].mean())"
      ],
      "metadata": {
        "colab": {
          "base_uri": "https://localhost:8080/"
        },
        "id": "ZyTP9c58gkD6",
        "outputId": "5b85009e-cf63-4a16-a9e7-b9301050b408"
      },
      "execution_count": null,
      "outputs": [
        {
          "output_type": "stream",
          "name": "stdout",
          "text": [
            "Sex\n",
            "female    0.742038\n",
            "male      0.188908\n",
            "Name: Survived, dtype: float64\n"
          ]
        }
      ]
    },
    {
      "cell_type": "markdown",
      "source": [
        "**What it does:**\n",
        "\n",
        "df.groupby('Sex')['Survived'].mean():\n",
        "Groups passengers by Sex (Male and Female).\n",
        "Computes the mean survival rate for each gender."
      ],
      "metadata": {
        "id": "dCv8Bzc-hL9Y"
      }
    },
    {
      "cell_type": "code",
      "source": [
        "print(df.groupby('Pclass')['Survived'].mean())"
      ],
      "metadata": {
        "colab": {
          "base_uri": "https://localhost:8080/"
        },
        "id": "JMA8yx1HhRjF",
        "outputId": "3f19d002-1d3a-41e0-bf86-450ce722f5ab"
      },
      "execution_count": null,
      "outputs": [
        {
          "output_type": "stream",
          "name": "stdout",
          "text": [
            "Pclass\n",
            "1    0.629630\n",
            "2    0.472826\n",
            "3    0.242363\n",
            "Name: Survived, dtype: float64\n"
          ]
        }
      ]
    },
    {
      "cell_type": "markdown",
      "source": [
        "**What it does:**\n",
        "\n",
        "df.groupby('Pclass')['Survived'].mean():\n",
        "Groups passengers by Pclass (1st, 2nd, 3rd class).\n",
        "Computes the mean survival rate for each class."
      ],
      "metadata": {
        "id": "-dVkybz3hdEX"
      }
    },
    {
      "cell_type": "code",
      "source": [
        "print(df.groupby(['Sex','Pclass'])['Survived'].mean())"
      ],
      "metadata": {
        "colab": {
          "base_uri": "https://localhost:8080/"
        },
        "id": "W5gsiLNFhmTM",
        "outputId": "afbcaaaf-ddfd-45d9-a676-42bda6a5b047"
      },
      "execution_count": null,
      "outputs": [
        {
          "output_type": "stream",
          "name": "stdout",
          "text": [
            "Sex     Pclass\n",
            "female  1         0.968085\n",
            "        2         0.921053\n",
            "        3         0.500000\n",
            "male    1         0.368852\n",
            "        2         0.157407\n",
            "        3         0.135447\n",
            "Name: Survived, dtype: float64\n"
          ]
        }
      ]
    },
    {
      "cell_type": "markdown",
      "source": [
        "**What it does:**\n",
        "\n",
        "Groups by both gender and class.\n",
        "Computes the survival rate for each combination"
      ],
      "metadata": {
        "id": "mUdOBGCXiSP5"
      }
    },
    {
      "cell_type": "code",
      "source": [
        "sns.barplot(x=\"Pclass\",y=\"Survived\",hue=\"Sex\",data=df)\n",
        "plt.title(\"Survival Rate by Gender and Class\")\n",
        "plt.show()"
      ],
      "metadata": {
        "colab": {
          "base_uri": "https://localhost:8080/",
          "height": 472
        },
        "id": "-eBc7YcBifmm",
        "outputId": "69947c69-7e3c-4aee-d73d-dfe827a746e7"
      },
      "execution_count": null,
      "outputs": [
        {
          "output_type": "display_data",
          "data": {
            "text/plain": [
              "<Figure size 640x480 with 1 Axes>"
            ],
            "image/png": "[encoded data removed]"
          },
          "metadata": {}
        }
      ]
    },
    {
      "cell_type": "markdown",
      "source": [
        "**What it does:**\n",
        "\n",
        "sns.barplot() creates a bar plot:\n",
        "x=\"Pclass\" → Groups by passenger class.\n",
        "y=\"Survived\" → Shows survival rate.\n",
        "hue=\"Sex\" → Separates bars by gender.\n",
        "\n",
        "**Why it's useful:**\n",
        "\n",
        "Clearly shows survival differences between genders in each class.\n",
        "Women in all classes had a higher survival rate than men.\n",
        "3rd class men had the lowest survival rate"
      ],
      "metadata": {
        "id": "ZzQ8eXzri6Dg"
      }
    },
    {
      "cell_type": "code",
      "source": [
        "sns.barplot(x=\"Age\",y=\"Survived\",data = df)\n",
        "plt.title(\"Survival Rate by Age\")\n",
        "plt.show()"
      ],
      "metadata": {
        "colab": {
          "base_uri": "https://localhost:8080/",
          "height": 472
        },
        "id": "sgMHkG8RjDe2",
        "outputId": "8d32149e-4332-403d-d8a6-b3d9c25617f0"
      },
      "execution_count": null,
      "outputs": [
        {
          "output_type": "display_data",
          "data": {
            "text/plain": [
              "<Figure size 640x480 with 1 Axes>"
            ],
            "image/png": "[encoded data removed]"
          },
          "metadata": {}
        }
      ]
    },
    {
      "cell_type": "markdown",
      "source": [
        "**What it does:**\n",
        "\n",
        "Creates a bar plot to visualize survival rates for different age groups.\n",
        "\n",
        "**Why it's useful:**\n",
        "\n",
        "Confirms \"Women and children first\" policy.\n",
        "Children had the highest survival rate"
      ],
      "metadata": {
        "id": "mCVTDoN3jSre"
      }
    },
    {
      "cell_type": "markdown",
      "source": [
        "**TASK 5 : HANDLING MISSING DATA**"
      ],
      "metadata": {
        "id": "MySL8Yvmjcs0"
      }
    },
    {
      "cell_type": "markdown",
      "source": [
        "Analysing improper dataset can lead to incorrect insights, so handling missing data is crucial for proper analysis"
      ],
      "metadata": {
        "id": "yO5S8foFjsI3"
      }
    },
    {
      "cell_type": "code",
      "source": [
        "print(\"Missing values:\", df.isnull().sum())"
      ],
      "metadata": {
        "colab": {
          "base_uri": "https://localhost:8080/"
        },
        "id": "L9Awp5GrkNDX",
        "outputId": "20be333c-b907-46c8-b599-20e1d6f97e00"
      },
      "execution_count": null,
      "outputs": [
        {
          "output_type": "stream",
          "name": "stdout",
          "text": [
            "Missing values: PassengerId      0\n",
            "Survived         0\n",
            "Pclass           0\n",
            "Name             0\n",
            "Sex              0\n",
            "Age            177\n",
            "SibSp            0\n",
            "Parch            0\n",
            "Ticket           0\n",
            "Fare             0\n",
            "Cabin          687\n",
            "Embarked         2\n",
            "dtype: int64\n"
          ]
        }
      ]
    },
    {
      "cell_type": "markdown",
      "source": [
        "**What it does:**\n",
        "\n",
        "df.isnull() → Checks where data is missing (True for missing values).\n",
        ".sum() → Counts missing values column-wise."
      ],
      "metadata": {
        "id": "DbSMzaR9kYxv"
      }
    },
    {
      "cell_type": "code",
      "source": [
        "df.drop(columns=['Cabin'], inplace=True)"
      ],
      "metadata": {
        "id": "plAXZbxQkdUD"
      },
      "execution_count": null,
      "outputs": []
    },
    {
      "cell_type": "markdown",
      "source": [
        "**What it does:**\n",
        "\n",
        "Removes the 'Cabin' column from the dataset.\n",
        "\n",
        "**Why it's useful:**\n",
        "\n",
        "Cabin has too much missing data (687 missing values).\n",
        "Instead of guessing missing values, we remove it to simplify analysis."
      ],
      "metadata": {
        "id": "chFZiO4Xkyqn"
      }
    },
    {
      "cell_type": "code",
      "source": [
        "df['Age'] = pd.to_numeric(df['Age'], errors='coerce')\n",
        "df['Age'] = df[\"Age\"].fillna(df[\"Age\"].median(), inplace=True)"
      ],
      "metadata": {
        "colab": {
          "base_uri": "https://localhost:8080/"
        },
        "id": "j3PElQVzk-N8",
        "outputId": "4dd65387-c613-4889-a97a-35b5ee9149a8"
      },
      "execution_count": null,
      "outputs": [
        {
          "output_type": "stream",
          "name": "stderr",
          "text": [
            "<ipython-input-73-d477d983f60a>:2: FutureWarning: A value is trying to be set on a copy of a DataFrame or Series through chained assignment using an inplace method.\n",
            "The behavior will change in pandas 3.0. This inplace method will never work because the intermediate object on which we are setting values always behaves as a copy.\n",
            "\n",
            "For example, when doing 'df[col].method(value, inplace=True)', try using 'df.method({col: value}, inplace=True)' or df[col] = df[col].method(value) instead, to perform the operation inplace on the original object.\n",
            "\n",
            "\n",
            "  df['Age'] = df[\"Age\"].fillna(df[\"Age\"].median(), inplace=True)\n"
          ]
        }
      ]
    },
    {
      "cell_type": "markdown",
      "source": [
        "**What it does:**\n",
        "\n",
        "Fills missing values in 'Age' with the median.\n",
        "\n",
        "**Why use the median?**\n",
        "\n",
        "'Age' has 177 missing values.\n",
        "The mean (average) can be affected by outliers.\n",
        "The median (middle value) is more robust."
      ],
      "metadata": {
        "id": "5K4Q-_QIlycj"
      }
    },
    {
      "cell_type": "code",
      "source": [
        "df['Embarked'].fillna({'Embarked':df['Embarked'].mode()[0]}, inplace = True)"
      ],
      "metadata": {
        "colab": {
          "base_uri": "https://localhost:8080/"
        },
        "id": "nH0Ppn3omCjf",
        "outputId": "eaa00a22-0f43-459a-9ce1-77b19809352a"
      },
      "execution_count": null,
      "outputs": [
        {
          "output_type": "stream",
          "name": "stderr",
          "text": [
            "<ipython-input-64-9114be520fcf>:1: FutureWarning: A value is trying to be set on a copy of a DataFrame or Series through chained assignment using an inplace method.\n",
            "The behavior will change in pandas 3.0. This inplace method will never work because the intermediate object on which we are setting values always behaves as a copy.\n",
            "\n",
            "For example, when doing 'df[col].method(value, inplace=True)', try using 'df.method({col: value}, inplace=True)' or df[col] = df[col].method(value) instead, to perform the operation inplace on the original object.\n",
            "\n",
            "\n",
            "  df['Embarked'].fillna({'Embarked':df['Embarked'].mode()[0]}, inplace = True)\n"
          ]
        }
      ]
    },
    {
      "cell_type": "markdown",
      "source": [
        "**What it does:**\n",
        "\n",
        "Fills missing values in 'Embarked' using the mode (most frequent value).\n",
        "\n",
        "**Why use the mode?**\n",
        "\n",
        "'Embarked' has only 2 missing values.\n",
        "The mode represents the most common boarding location"
      ],
      "metadata": {
        "id": "7pILqrkRmP2j"
      }
    },
    {
      "cell_type": "code",
      "source": [
        "print(\"Missing values after handling:\", df.isnull().sum())"
      ],
      "metadata": {
        "colab": {
          "base_uri": "https://localhost:8080/"
        },
        "id": "8TpzHanimXpf",
        "outputId": "f3b8967d-21b5-4db7-f318-489c9a906a77"
      },
      "execution_count": null,
      "outputs": [
        {
          "output_type": "stream",
          "name": "stdout",
          "text": [
            "Missing values after handling: PassengerId      0\n",
            "Survived         0\n",
            "Pclass           0\n",
            "Name             0\n",
            "Sex              0\n",
            "Age            891\n",
            "SibSp            0\n",
            "Parch            0\n",
            "Ticket           0\n",
            "Fare             0\n",
            "Embarked         2\n",
            "dtype: int64\n"
          ]
        }
      ]
    },
    {
      "cell_type": "code",
      "source": [
        "sns.heatmap(df.isnull(), cbar=False, cmap='viridis')\n",
        "plt.title(\"Missing values\")\n",
        "plt.show()"
      ],
      "metadata": {
        "colab": {
          "base_uri": "https://localhost:8080/",
          "height": 522
        },
        "id": "Kut0RLVBm0a7",
        "outputId": "cbdc35da-a714-4c23-99cc-10a74ac5ac60"
      },
      "execution_count": null,
      "outputs": [
        {
          "output_type": "display_data",
          "data": {
            "text/plain": [
              "<Figure size 640x480 with 1 Axes>"
            ],
            "image/png": "[encoded data removed]"
          },
          "metadata": {}
        }
      ]
    },
    {
      "cell_type": "markdown",
      "source": [
        "**What it does**:\n",
        "\n",
        "Creates a heatmap where:\n",
        "Yellow (or bright areas) → Missing values.\n",
        "Dark areas → Present values.\n",
        "\n",
        "**Why it's useful?**\n",
        "\n",
        "Helps visualize missing data patterns.\n",
        "Before cleaning, we expect to see missing values in 'Age', 'Cabin', and 'Embarked'.\n",
        "After cleaning, the heatmap should show no missing values."
      ],
      "metadata": {
        "id": "VdNLeOGen7Mk"
      }
    }
  ]
}