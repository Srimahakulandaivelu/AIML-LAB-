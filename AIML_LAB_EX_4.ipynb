{
  "nbformat": 4,
  "nbformat_minor": 0,
  "metadata": {
    "colab": {
      "provenance": [],
      "authorship_tag": "ABX9TyP4erU9xmw7Ni7fmV6o5IUQ",
      "include_colab_link": true
    },
    "kernelspec": {
      "name": "python3",
      "display_name": "Python 3"
    },
    "language_info": {
      "name": "python"
    }
  },
  "cells": [
    {
      "cell_type": "markdown",
      "metadata": {
        "id": "view-in-github",
        "colab_type": "text"
      },
      "source": [
        "<a href=\"https://colab.research.google.com/github/Srimahakulandaivelu/AIML-LAB-/blob/main/AIML_LAB_EX_4.ipynb\" target=\"_parent\"><img src=\"https://colab.research.google.com/assets/colab-badge.svg\" alt=\"Open In Colab\"/></a>"
      ]
    },
    {
      "cell_type": "markdown",
      "source": [
        "**WATER JUG PROBLEM USING STATE SPACE SEARCH**\n",
        "\n",
        "To solve the water jug problem using the state space search technique for the following set of ordered pairs of integers(X,Y) such that X=0,1,2,3 or 4 and Y=0,1,2 or 3; X is the no of gallons of water in the 4-gallon jug and Y is the quantity of water in the 3-gallon jug"
      ],
      "metadata": {
        "id": "wn3TZ_4QdAFt"
      }
    },
    {
      "cell_type": "code",
      "execution_count": 2,
      "metadata": {
        "id": "-wuq8GTyc-ti"
      },
      "outputs": [],
      "source": [
        "from collections import defaultdict"
      ]
    },
    {
      "cell_type": "markdown",
      "source": [
        "* Importing the needed libraries"
      ],
      "metadata": {
        "id": "NbbzHec_da0x"
      }
    },
    {
      "cell_type": "code",
      "source": [
        "jug1, jug2, aim = 4,3,2\n",
        "visited = defaultdict(lambda:False)"
      ],
      "metadata": {
        "id": "SfRENVLvde8z"
      },
      "execution_count": 3,
      "outputs": []
    },
    {
      "cell_type": "markdown",
      "source": [
        "* Defining the variables such as jug1, jug2, aim\n",
        "* jug1 = amount of the first jug\n",
        "* jug2 = amount of the second jug\n",
        "* aim = target amount we need to measure\n",
        "\n",
        "* *visited* dictionary to store the visited states (prevents infinite loops)"
      ],
      "metadata": {
        "id": "8lmPPn5neT3i"
      }
    },
    {
      "cell_type": "code",
      "source": [
        "def WaterJugSolver(amt1, amt2):\n",
        "  if(amt1==aim and amt2==0) or (amt2==aim and amt1==0):\n",
        "    print(amt1,amt2)\n",
        "    return True\n",
        "\n",
        "  if (amt1,amt2) not in visited:\n",
        "    print(amt1,amt2)\n",
        "    visited[(amt1,amt2)]=True\n",
        "    return(WaterJugSolver(0,amt2) or\n",
        "           WaterJugSolver(amt1,0) or\n",
        "           WaterJugSolver(jug1,amt2) or\n",
        "           WaterJugSolver(amt1,jug2) or\n",
        "           WaterJugSolver(amt1 + min(amt2,(jug1-amt1)), amt2 - min(amt2,(jug1-amt1))) or\n",
        "           WaterJugSolver(amt1 - min(amt1,(jug2-amt2)), amt2 + min(amt1,(jug2-amt2))))\n",
        "\n",
        "  return False\n",
        "\n",
        "print(\"Steps:\")\n",
        "WaterJugSolver(0,0)\n"
      ],
      "metadata": {
        "colab": {
          "base_uri": "https://localhost:8080/"
        },
        "id": "udPkKlikecFn",
        "outputId": "6e3bee65-92ee-4387-c7ec-01e9a047aed8"
      },
      "execution_count": 4,
      "outputs": [
        {
          "output_type": "stream",
          "name": "stdout",
          "text": [
            "Steps:\n",
            "0 0\n",
            "4 0\n",
            "4 3\n",
            "0 3\n",
            "3 0\n",
            "3 3\n",
            "4 2\n",
            "0 2\n"
          ]
        },
        {
          "output_type": "execute_result",
          "data": {
            "text/plain": [
              "True"
            ]
          },
          "metadata": {},
          "execution_count": 4
        }
      ]
    },
    {
      "cell_type": "markdown",
      "source": [
        "Defining the WaterJugSolver(amt1,amt2)\n",
        "* the base case checks ***if(amt1==aim and amt2==0) or (amt2==aim and amt1==0):***\n",
        "if we have reached the target amount\n",
        "* If it is reached it returns **True**\n",
        "* If the current state is not visited, printing the current state and adding it to the visited dictionary\n",
        "* Recursively exploring all the possibilities\n",
        "  * **WaterJugSolver(0, amt2)** = empty jug1\n",
        "  * **WaterJugSolver(amt1, 0)** = empty jug2\n",
        "  * **WaterJugSolver(jug1, amt2)** = Filling the jug1 completely\n",
        "  * **WaterJugSolver(amt1, jug2)** = Filling the jug2 completely\n",
        "  * **WaterJugSolver(amt1 + min(amt2,(jug1-amt1)), amt2 - min(amt2,(jug1-amt1)))** = pouring from jug2 to jug1\n",
        "    * Find the minimum amount that can be transferred from Jug2 to Jug1.\n",
        "    * Update amt1 and amt2 accordingly.\n",
        "  * **WaterJugSolver(amt1 - min(amt1,(jug2-amt2)), amt2 + min(amt1,(jug2-amt2))))** = pouring from jug1 to jug2\n",
        "    * Find the minimum amount that can be transferred from Jug1 to Jug2.\n",
        "    * Update amt1 and amt2 accordingly.\n",
        "* If any of these recursive calls returns True, the function will return True\n",
        "* Or else if any of these states is already visited, it returns False\n",
        "* Atlast, printing the states, by calling the WaterJugSolver function"
      ],
      "metadata": {
        "id": "4dNTwjIbh0g6"
      }
    }
  ]
}